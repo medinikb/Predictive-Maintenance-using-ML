{
 "cells": [
  {
   "cell_type": "markdown",
   "metadata": {},
   "source": [
    "# Predictive Maintenance using Machine Learning\n",
    "\n",
    "The economic potential of deployment of Artificial Intelligence (AI) has been widely highlighted by policy makers, technologists, academics and civil society around the world. In India, the National Strategy on Artificial Intelligence (NSAI) released by NITI Aayog in 2018 highlights the potential of AI to solve social challenges faced by its citizens in areas such agriculture, health and education, in addition to the pure economic returns that are brought by this technology. \n",
    "\n",
    "<p>Now a days most of the industries are adopting Industry 4.0 Technologies for numerous number of benefits.\n",
    "Industries that invest in Industry 4.0 solutions can increase efficiency, boost collaboration between departments, enable predictive and prescriptive analytics, and allow people including operators, managers, and executives to more fully leverage real-time data and intelligence to make better decisions while managing their day-to-day responsibilities.</p>\n",
    "\n",
    "<p> Here we will explore the application of Machine Learning in Predictive Maintenance. "
   ]
  },
  {
   "cell_type": "markdown",
   "metadata": {},
   "source": [
    "# Problem Description\n",
    "A major problem faced by businesses in asset-heavy industries such as manufacturing is the significant costs that are associated with delays in the production process due to mechanical problems. Most of these businesses are interested in predicting these problems in advance so that they can proactively prevent the problems before they occur which will reduce the costly impact caused by downtime.\n",
    "\n",
    "The business problem for this example is about predicting problems caused by component failures such that the question \"What is the probability that a machine will fail in the near future (within 1 day or 7 days) due to a failure of a certain component?\" can be answered.  The problem is formatted as a multi-class classification problem and a machine learning algorithm is used to create the predictive model that learns from historical data collected from machines. \n",
    "\n",
    "Based on the health of an equipment in the past, future point of failure can be predicted in Predictive Maintenance. Thus, replacement of parts can be scheduled just before the actual failure.\n",
    "\n",
    "Traditionally, predictive maintenance is being done using rule based techniques. With the advent of connected sensors (IoT), data from equipment is continuously collected and fed to Machine Learning based systems to predict its future health.\n",
    "\n",
    "<p>In the following sections, we go through the steps of implementing such a model which are feature engineering, label construction, training  and evaluation. First, we start by explaining the data sources in the next section."
   ]
  },
  {
   "cell_type": "markdown",
   "metadata": {},
   "source": [
    "# Exploratory data analysis"
   ]
  },
  {
   "cell_type": "markdown",
   "metadata": {},
   "source": [
    "## Data Sources\n",
    "\n",
    "The dataset is available in Kaggle (link:         https://www.kaggle.com/datasets/arnabbiswas1/microsoft-azure-predictive-maintenance ). This dataset was available as a part of Azure AI Notebooks for Predictive Maintenance.\n",
    "\n",
    "\n",
    "### Dataset Description:\n",
    "There are 5 CSV files consisting of:\n",
    "\n",
    "- <b>Telemetry Time Series Data (PdM_telemetry.csv):</b> Telemetry is the automated communication processes from multiple data sources. It consists of hourly average of voltage, rotation, pressure, vibration collected from 100 machines for the year 2015.\n",
    "\n",
    "\n",
    "- <b>Error (PdM_errors.csv):</b> These are errors encountered by the machines while in operating condition. Since, these errors don't shut down the machines, these are not considered as failures. The error date and times are rounded to the closest hour since the telemetry data is collected at an hourly rate.\n",
    "\n",
    "\n",
    "- <b>Maintenance (PdM_maint.csv):</b> If a component of a machine is replaced, that is captured as a record in this table. Components are replaced under two situations:\n",
    "\n",
    "    During the regular scheduled visit, the technician replaced it (Proactive Maintenance)\n",
    "    A component breaks down and then the technician does an unscheduled maintenance to replace the       component (Reactive Maintenance). This is considered as a failure and corresponding data is           captured under Failures. Maintenance data has both 2014 and 2015 records. This data is rounded to     the closest hour since the telemetry data is collected at an hourly rate.\n",
    "    \n",
    "\n",
    "- <b>Failures (PdM_failures.csv):</b> Each record represents replacement of a component due to failure. This data is a subset of Maintenance data. This data is rounded to the closest hour since the telemetry data is collected at an hourly rate.\n",
    "\n",
    "\n",
    "- <b>Metadata of Machines (PdM_Machines.csv):</b> Model type & age of the Machines.\n",
    "\n",
    "\n",
    "The data comes from 4 different sources which are real-time telemetry data collected from machines, error messages, historical maintenance records that include failures and machine information such as type and age."
   ]
  },
  {
   "cell_type": "code",
   "execution_count": 1,
   "metadata": {},
   "outputs": [],
   "source": [
    "#Importing libraries\n",
    "import os\n",
    "import sys\n",
    "import numpy as np\n",
    "import matplotlib\n",
    "import matplotlib.pyplot as plt\n",
    "matplotlib.style.use(\"Solarize_Light2\")\n",
    "%matplotlib inline"
   ]
  },
  {
   "cell_type": "code",
   "execution_count": 2,
   "metadata": {
    "scrolled": true
   },
   "outputs": [],
   "source": [
    "#Loading all the dataset using Pandas library\n",
    "import pandas as pd\n",
    "\n",
    "telemetry = pd.read_csv('PdM_telemetry.csv')\n",
    "errors = pd.read_csv('PdM_errors.csv')\n",
    "maint = pd.read_csv('PdM_maint.csv')\n",
    "failures = pd.read_csv('PdM_failures.csv')\n",
    "machines = pd.read_csv('PdM_machines.csv')"
   ]
  },
  {
   "cell_type": "code",
   "execution_count": 3,
   "metadata": {},
   "outputs": [],
   "source": [
    "#Creating some utilities functions:\n",
    "#https://www.kaggle.com/datasets/arnabbiswas1/microsoft-azure-predictive-maintenance/code\n",
    "\n",
    "def check_null(df):\n",
    "    \"\"\"\n",
    "    Returns percentage of rows containing missing data\n",
    "    \"\"\"\n",
    "    return df.isna().sum() * 100/len(df)\n",
    "\n",
    "\n",
    "def get_missing_dates(series, start_date, end_date, freq=\"D\"):\n",
    "    \"\"\"\n",
    "    Returns the dates which are missing in the series\n",
    "    date_sr between the start_date and end_date\n",
    "    \n",
    "    series: Series consisting of date\n",
    "    start_date: Start date in String format\n",
    "    end_date: End date in String format\n",
    "    \"\"\"\n",
    "    return pd.date_range(\n",
    "        start=start_date, end=end_date, freq=freq).difference(series)\n",
    "\n",
    "\n",
    "def check_duplicate(df, subset):\n",
    "    \"\"\"\n",
    "    Returns if there are any duplicate rows in the DataFrame.\n",
    "    \n",
    "    df: DataFrame under consideration\n",
    "    subset: Optional List of feature names based on which \n",
    "            duplicate rows are being identified. \n",
    "    \"\"\"\n",
    "    if subset is not None: \n",
    "        return df.duplicated(subset=subset, keep=False).sum()\n",
    "    else:\n",
    "        return df.duplicated(keep=False).sum()\n",
    "\n",
    "\n",
    "def create_date_features(source_df, target_df, feature_name):\n",
    "    '''\n",
    "    Create new features related to dates\n",
    "    \n",
    "    source_df : DataFrame consisting of the timestamp related feature\n",
    "    target_df : DataFrame where new features will be added\n",
    "    feature_name : Name of the feature of date type which needs to be decomposed.\n",
    "    '''\n",
    "    target_df.loc[:, 'year'] = source_df.loc[:, feature_name].dt.year.astype('uint16')\n",
    "    target_df.loc[:, 'month'] = source_df.loc[:, feature_name].dt.month.astype('uint8')\n",
    "    target_df.loc[:, 'quarter'] = source_df.loc[:, feature_name].dt.quarter.astype('uint8')\n",
    "    target_df.loc[:, 'weekofyear'] = source_df.loc[:, feature_name].dt.isocalendar().week.astype('uint8')\n",
    "    \n",
    "    target_df.loc[:, 'hour'] = source_df.loc[:, feature_name].dt.hour.astype('uint8')\n",
    "    \n",
    "    target_df.loc[:, 'day'] = source_df.loc[:, feature_name].dt.day.astype('uint8')\n",
    "    target_df.loc[:, 'dayofweek'] = source_df.loc[:, feature_name].dt.dayofweek.astype('uint8')\n",
    "    target_df.loc[:, 'dayofyear'] = source_df.loc[:, feature_name].dt.dayofyear.astype('uint8')\n",
    "    target_df.loc[:, 'is_month_start'] = source_df.loc[:, feature_name].dt.is_month_start\n",
    "    target_df.loc[:, 'is_month_end'] = source_df.loc[:, feature_name].dt.is_month_end\n",
    "    target_df.loc[:, 'is_quarter_start']= source_df.loc[:, feature_name].dt.is_quarter_start\n",
    "    target_df.loc[:, 'is_quarter_end'] = source_df.loc[:, feature_name].dt.is_quarter_end\n",
    "    target_df.loc[:, 'is_year_start'] = source_df.loc[:, feature_name].dt.is_year_start\n",
    "    target_df.loc[:, 'is_year_end'] = source_df.loc[:, feature_name].dt.is_year_end\n",
    "    \n",
    "    # This is of type object\n",
    "    target_df.loc[:, 'month_year'] = source_df.loc[:, feature_name].dt.to_period('M')\n",
    "    \n",
    "    return target_df\n",
    "\n",
    "\n",
    "def plot_boxh_groupby(df, feature_name, by):\n",
    "    \"\"\"\n",
    "    Box plot with groupby\n",
    "    \n",
    "    df: DataFrame\n",
    "    feature_name: Name of the feature to be plotted\n",
    "    by: Name of the feature based on which groups are created\n",
    "    \"\"\"\n",
    "    df.boxplot(column=feature_name, by=by, vert=False, \n",
    "                              figsize=(10, 6))\n",
    "    plt.title(f'Distribution of {feature_name} by {by}')\n",
    "    plt.show()\n",
    "    \n",
    "\n",
    "def plot_hist(df, feature_name, kind='hist', bins=100, log=True):\n",
    "    \"\"\"\n",
    "    Plot histogram.\n",
    "    \n",
    "    df: DataFrame\n",
    "    feature_name: Name of the feature to be plotted.\n",
    "    \"\"\"\n",
    "    if log:\n",
    "        df[feature_name].apply(np.log1p).plot(kind='hist', \n",
    "                                              bins=bins, \n",
    "                                              figsize=(15, 5), \n",
    "                                              title=f'Distribution of log1p[{feature_name}]')\n",
    "    else:\n",
    "        df[feature_name].plot(kind='hist', \n",
    "                              bins=bins, \n",
    "                              figsize=(15, 5), \n",
    "                              title=f'Distribution of {feature_name}')\n",
    "    plt.show()\n",
    "\n",
    "\n",
    "    \n",
    "\n",
    "def plot_ts(series, figsize=(20, 6), title=None, xlabel=\"\", ylabel=\"\"):\n",
    "    \"\"\"\n",
    "    Plot Time Series data. The series object should have date or time as index.\n",
    "    \n",
    "    series: Series object to be plotted.\n",
    "    \"\"\"\n",
    "    series.plot(figsize=figsize, title=title)\n",
    "    plt.xlabel(xlabel)\n",
    "    plt.ylabel(ylabel)\n",
    "    plt.show()\n",
    "\n",
    "\n",
    "def plot_barh(df, feature_name, normalize=True, \n",
    "              kind='barh', figsize=(15,5), sort_index=False, title=None):\n",
    "    \"\"\"\n",
    "    Plot barh for a particular feature\n",
    "    \n",
    "    kind : Type of the plot\n",
    "    \n",
    "    \"\"\"\n",
    "    if sort_index==True:\n",
    "        df[feature_name].value_counts(\n",
    "                normalize=normalize, dropna=False).sort_index().plot(\n",
    "                kind=kind, figsize=figsize, grid=True,\n",
    "                title=title)\n",
    "    else:   \n",
    "        df[feature_name].value_counts(\n",
    "                normalize=normalize, dropna=False).sort_values().plot(\n",
    "                kind=kind, figsize=figsize, grid=True,\n",
    "                title=title)\n",
    "    \n",
    "    plt.legend()\n",
    "    plt.show()\n",
    "\n",
    "\n",
    "def plot_boxh(df, feature_name, kind='box', log=True):\n",
    "    \"\"\"\n",
    "    Box plot\n",
    "    \"\"\"\n",
    "    if log:\n",
    "        df[feature_name].apply(np.log1p).plot(kind='box', vert=False, \n",
    "                                                  figsize=(10, 6), \n",
    "                                                  title=f'Distribution of log1p[{feature_name}]')\n",
    "    else:\n",
    "        df[feature_name].plot(kind='box', vert=False, \n",
    "                              figsize=(10, 6), \n",
    "                              title=f'Distribution of {feature_name}')\n",
    "    plt.show()\n",
    "    \n",
    "\n",
    "def plot_scatter(df, feature_x, feature_y, figsize=(10,10), \n",
    "                 title=None, xlabel=None, ylabel=None):\n",
    "    \"\"\"\n",
    "    Plot scatter     \n",
    "    \"\"\"\n",
    "    df.plot.scatter(feature_x, feature_y, \n",
    "                    figsize=(8, 6), title=title, \n",
    "                    legend=None)\n",
    "    plt.xlabel(xlabel)\n",
    "    plt.ylabel(ylabel)\n",
    "    plt.show()"
   ]
  },
  {
   "cell_type": "markdown",
   "metadata": {},
   "source": [
    "### Telemetry Time Series Data (PdM_telemetry.csv)\n",
    "\n",
    "We are displaying the first 5 records in the dataset. A summary of the whole dataset is also provided."
   ]
  },
  {
   "cell_type": "code",
   "execution_count": 4,
   "metadata": {},
   "outputs": [
    {
     "name": "stdout",
     "output_type": "stream",
     "text": [
      "Total number of telemetry records: 876100\n",
      "             datetime  machineID        volt      rotate    pressure  \\\n",
      "0 2015-01-01 06:00:00          1  176.217853  418.504078  113.077935   \n",
      "1 2015-01-01 07:00:00          1  162.879223  402.747490   95.460525   \n",
      "2 2015-01-01 08:00:00          1  170.989902  527.349825   75.237905   \n",
      "3 2015-01-01 09:00:00          1  162.462833  346.149335  109.248561   \n",
      "4 2015-01-01 10:00:00          1  157.610021  435.376873  111.886648   \n",
      "\n",
      "   vibration  \n",
      "0  45.087686  \n",
      "1  43.413973  \n",
      "2  34.178847  \n",
      "3  41.122144  \n",
      "4  25.990511  \n",
      "\n",
      "Summary of the dataset:\n"
     ]
    },
    {
     "data": {
      "text/html": [
       "<div>\n",
       "<style scoped>\n",
       "    .dataframe tbody tr th:only-of-type {\n",
       "        vertical-align: middle;\n",
       "    }\n",
       "\n",
       "    .dataframe tbody tr th {\n",
       "        vertical-align: top;\n",
       "    }\n",
       "\n",
       "    .dataframe thead th {\n",
       "        text-align: right;\n",
       "    }\n",
       "</style>\n",
       "<table border=\"1\" class=\"dataframe\">\n",
       "  <thead>\n",
       "    <tr style=\"text-align: right;\">\n",
       "      <th></th>\n",
       "      <th>machineID</th>\n",
       "      <th>volt</th>\n",
       "      <th>rotate</th>\n",
       "      <th>pressure</th>\n",
       "      <th>vibration</th>\n",
       "    </tr>\n",
       "  </thead>\n",
       "  <tbody>\n",
       "    <tr>\n",
       "      <th>count</th>\n",
       "      <td>876100.000000</td>\n",
       "      <td>876100.000000</td>\n",
       "      <td>876100.000000</td>\n",
       "      <td>876100.000000</td>\n",
       "      <td>876100.000000</td>\n",
       "    </tr>\n",
       "    <tr>\n",
       "      <th>mean</th>\n",
       "      <td>50.500000</td>\n",
       "      <td>170.777736</td>\n",
       "      <td>446.605119</td>\n",
       "      <td>100.858668</td>\n",
       "      <td>40.385007</td>\n",
       "    </tr>\n",
       "    <tr>\n",
       "      <th>std</th>\n",
       "      <td>28.866087</td>\n",
       "      <td>15.509114</td>\n",
       "      <td>52.673886</td>\n",
       "      <td>11.048679</td>\n",
       "      <td>5.370361</td>\n",
       "    </tr>\n",
       "    <tr>\n",
       "      <th>min</th>\n",
       "      <td>1.000000</td>\n",
       "      <td>97.333604</td>\n",
       "      <td>138.432075</td>\n",
       "      <td>51.237106</td>\n",
       "      <td>14.877054</td>\n",
       "    </tr>\n",
       "    <tr>\n",
       "      <th>25%</th>\n",
       "      <td>25.750000</td>\n",
       "      <td>160.304927</td>\n",
       "      <td>412.305714</td>\n",
       "      <td>93.498181</td>\n",
       "      <td>36.777299</td>\n",
       "    </tr>\n",
       "    <tr>\n",
       "      <th>50%</th>\n",
       "      <td>50.500000</td>\n",
       "      <td>170.607338</td>\n",
       "      <td>447.558150</td>\n",
       "      <td>100.425559</td>\n",
       "      <td>40.237247</td>\n",
       "    </tr>\n",
       "    <tr>\n",
       "      <th>75%</th>\n",
       "      <td>75.250000</td>\n",
       "      <td>181.004493</td>\n",
       "      <td>482.176600</td>\n",
       "      <td>107.555231</td>\n",
       "      <td>43.784938</td>\n",
       "    </tr>\n",
       "    <tr>\n",
       "      <th>max</th>\n",
       "      <td>100.000000</td>\n",
       "      <td>255.124717</td>\n",
       "      <td>695.020984</td>\n",
       "      <td>185.951998</td>\n",
       "      <td>76.791072</td>\n",
       "    </tr>\n",
       "  </tbody>\n",
       "</table>\n",
       "</div>"
      ],
      "text/plain": [
       "           machineID           volt         rotate       pressure  \\\n",
       "count  876100.000000  876100.000000  876100.000000  876100.000000   \n",
       "mean       50.500000     170.777736     446.605119     100.858668   \n",
       "std        28.866087      15.509114      52.673886      11.048679   \n",
       "min         1.000000      97.333604     138.432075      51.237106   \n",
       "25%        25.750000     160.304927     412.305714      93.498181   \n",
       "50%        50.500000     170.607338     447.558150     100.425559   \n",
       "75%        75.250000     181.004493     482.176600     107.555231   \n",
       "max       100.000000     255.124717     695.020984     185.951998   \n",
       "\n",
       "           vibration  \n",
       "count  876100.000000  \n",
       "mean       40.385007  \n",
       "std         5.370361  \n",
       "min        14.877054  \n",
       "25%        36.777299  \n",
       "50%        40.237247  \n",
       "75%        43.784938  \n",
       "max        76.791072  "
      ]
     },
     "execution_count": 4,
     "metadata": {},
     "output_type": "execute_result"
    }
   ],
   "source": [
    "# Format datetime field which comes in as string\n",
    "\n",
    "telemetry['datetime'] = pd.to_datetime(telemetry['datetime'], format=\"%Y-%m-%d %H:%M:%S\")\n",
    "\n",
    "print(\"Total number of telemetry records: %d\" % len(telemetry.index))\n",
    "print(telemetry.head())\n",
    "print()#print blank space\n",
    "print(\"Summary of the dataset:\")\n",
    "telemetry.describe()"
   ]
  },
  {
   "cell_type": "markdown",
   "metadata": {},
   "source": [
    "<b>How many Machines are there?"
   ]
  },
  {
   "cell_type": "code",
   "execution_count": 5,
   "metadata": {},
   "outputs": [
    {
     "data": {
      "text/plain": [
       "100"
      ]
     },
     "execution_count": 5,
     "metadata": {},
     "output_type": "execute_result"
    }
   ],
   "source": [
    "telemetry.machineID.nunique()"
   ]
  },
  {
   "cell_type": "markdown",
   "metadata": {},
   "source": [
    "<b>What is the duration of the data?"
   ]
  },
  {
   "cell_type": "code",
   "execution_count": 6,
   "metadata": {},
   "outputs": [
    {
     "data": {
      "text/plain": [
       "count                           876100\n",
       "mean     2015-07-02 17:59:59.999988992\n",
       "min                2015-01-01 06:00:00\n",
       "25%                2015-04-02 12:00:00\n",
       "50%                2015-07-02 18:00:00\n",
       "75%                2015-10-02 00:00:00\n",
       "max                2016-01-01 06:00:00\n",
       "Name: datetime, dtype: object"
      ]
     },
     "execution_count": 6,
     "metadata": {},
     "output_type": "execute_result"
    }
   ],
   "source": [
    "telemetry.datetime.describe(datetime_is_numeric=True)"
   ]
  },
  {
   "cell_type": "markdown",
   "metadata": {},
   "source": [
    "Telemetry data is distributed between 1st Jan 2015 to 1st Jan 2016. It seems that the data is having hourly frequency."
   ]
  },
  {
   "cell_type": "markdown",
   "metadata": {},
   "source": [
    "<b>Are there any missinge days in the data?"
   ]
  },
  {
   "cell_type": "code",
   "execution_count": 7,
   "metadata": {},
   "outputs": [
    {
     "data": {
      "text/plain": [
       "DatetimeIndex([], dtype='datetime64[ns]', freq=None)"
      ]
     },
     "execution_count": 7,
     "metadata": {},
     "output_type": "execute_result"
    }
   ],
   "source": [
    "get_missing_dates(telemetry.datetime, \n",
    "                  start_date=\"2015-01-01 06:00:00\", \n",
    "                  end_date=\"2016-01-01 06:00:00\", \n",
    "                  freq='H')"
   ]
  },
  {
   "cell_type": "markdown",
   "metadata": {},
   "source": [
    "There is no missing data."
   ]
  },
  {
   "cell_type": "markdown",
   "metadata": {},
   "source": [
    "<b>Are there any duplicates?</b> <br>\n",
    "One Machine should not have multiple rows with the same time stamp."
   ]
  },
  {
   "cell_type": "code",
   "execution_count": 8,
   "metadata": {},
   "outputs": [
    {
     "data": {
      "text/plain": [
       "0"
      ]
     },
     "execution_count": 8,
     "metadata": {},
     "output_type": "execute_result"
    }
   ],
   "source": [
    "check_duplicate(telemetry, ['datetime', 'machineID'])"
   ]
  },
  {
   "cell_type": "markdown",
   "metadata": {},
   "source": [
    "There are no duplicates in the telemetry data."
   ]
  },
  {
   "cell_type": "markdown",
   "metadata": {},
   "source": [
    "<b>Are there any Null values in the data?"
   ]
  },
  {
   "cell_type": "code",
   "execution_count": 9,
   "metadata": {},
   "outputs": [
    {
     "data": {
      "text/plain": [
       "datetime     0.0\n",
       "machineID    0.0\n",
       "volt         0.0\n",
       "rotate       0.0\n",
       "pressure     0.0\n",
       "vibration    0.0\n",
       "dtype: float64"
      ]
     },
     "execution_count": 9,
     "metadata": {},
     "output_type": "execute_result"
    }
   ],
   "source": [
    "check_null(telemetry)"
   ]
  },
  {
   "cell_type": "markdown",
   "metadata": {},
   "source": [
    "There are no missing values in the data"
   ]
  },
  {
   "cell_type": "markdown",
   "metadata": {},
   "source": [
    "<b>Let's plot Vibration of Machine 55 for 2015"
   ]
  },
  {
   "cell_type": "code",
   "execution_count": 10,
   "metadata": {},
   "outputs": [
    {
     "data": {
      "image/png": "[encoded data removed]",
      "text/plain": [
       "<Figure size 1440x432 with 1 Axes>"
      ]
     },
     "metadata": {
      "needs_background": "light"
     },
     "output_type": "display_data"
    }
   ],
   "source": [
    "# Let's plot Vibration of Machine 55 for 2015\n",
    "df_vib_machine_1 = telemetry[\n",
    "    telemetry.machineID == 55][[\"datetime\", \"vibration\"]].set_index(\"datetime\")\n",
    "plot_ts(df_vib_machine_1, title=\"Vibration of Machine 55\", xlabel=\"Time\", ylabel=\"Vibration\")"
   ]
  },
  {
   "cell_type": "markdown",
   "metadata": {},
   "source": [
    "As an example, below is a plot of voltage values for machine ID=1 for the first half of 2015."
   ]
  },
  {
   "cell_type": "code",
   "execution_count": 11,
   "metadata": {},
   "outputs": [
    {
     "data": {
      "image/png": "[encoded data removed]",
      "text/plain": [
       "<Figure size 864x432 with 1 Axes>"
      ]
     },
     "metadata": {},
     "output_type": "display_data"
    }
   ],
   "source": [
    "%matplotlib inline\n",
    "import matplotlib.pyplot as plt\n",
    "import seaborn as sns\n",
    "\n",
    "plot_df = telemetry.loc[(telemetry['machineID'] == 1) &\n",
    "                        (telemetry['datetime'] > pd.to_datetime('2015-01-01')) &\n",
    "                        (telemetry['datetime'] < pd.to_datetime('2015-02-01')), ['datetime', 'volt']]\n",
    "\n",
    "sns.set_style(\"darkgrid\")\n",
    "plt.figure(figsize=(12, 6))\n",
    "plt.plot(plot_df['datetime'], plot_df['volt'])\n",
    "plt.ylabel('voltage',fontsize=14)\n",
    "\n",
    "# make x-axis ticks legible\n",
    "adf = plt.gca().get_xaxis().get_major_formatter()\n",
    "adf.scaled[1.0] = '%m-%d'\n",
    "plt.xlabel('Date',fontsize=14)\n",
    "plt.title(\"Sample of distribution plot of voltage\", fontsize=16)\n",
    "plt.show()"
   ]
  },
  {
   "cell_type": "markdown",
   "metadata": {},
   "source": [
    "<b>Let's plot the distribution of Voltage across Machines."
   ]
  },
  {
   "cell_type": "code",
   "execution_count": 12,
   "metadata": {},
   "outputs": [
    {
     "data": {
      "image/png": "[encoded data removed]",
      "text/plain": [
       "<Figure size 1080x360 with 1 Axes>"
      ]
     },
     "metadata": {},
     "output_type": "display_data"
    }
   ],
   "source": [
    "sns.set_style(\"darkgrid\")\n",
    "plot_hist(telemetry, feature_name=\"volt\", log=False, bins=222)"
   ]
  },
  {
   "cell_type": "markdown",
   "metadata": {},
   "source": [
    "The distribution is a perfect normal curve."
   ]
  },
  {
   "cell_type": "markdown",
   "metadata": {},
   "source": [
    "<b>Let's verify it by plotting histogram of other parameters."
   ]
  },
  {
   "cell_type": "code",
   "execution_count": 13,
   "metadata": {},
   "outputs": [
    {
     "data": {
      "image/png": "[encoded data removed]",
      "text/plain": [
       "<Figure size 1080x360 with 1 Axes>"
      ]
     },
     "metadata": {},
     "output_type": "display_data"
    },
    {
     "data": {
      "image/png": "[encoded data removed]",
      "text/plain": [
       "<Figure size 1080x360 with 1 Axes>"
      ]
     },
     "metadata": {},
     "output_type": "display_data"
    },
    {
     "data": {
      "image/png": "[encoded data removed]",
      "text/plain": [
       "<Figure size 1080x360 with 1 Axes>"
      ]
     },
     "metadata": {},
     "output_type": "display_data"
    }
   ],
   "source": [
    "for name in ['rotate', 'pressure', 'vibration']:\n",
    "    plot_hist(telemetry, feature_name=name, log=False, bins=222)"
   ]
  },
  {
   "cell_type": "markdown",
   "metadata": {},
   "source": [
    "Vibration, rotation and pressure are also normally distributed."
   ]
  },
  {
   "cell_type": "markdown",
   "metadata": {},
   "source": [
    "<b>Observations on Telemetry Data</b>\n",
    "- The data distributed between 1st Jan 2015 to 1st Jan 2016.\n",
    "- Each row represents the state of a machine on a particular hour. Voltage, vibration, pressure &       rotation of a machine have been averaged hourly.\n",
    "- There are 100 unique Machines.\n",
    "- There are no duplicates or missing values in the dataset.\n",
    "- The four parameters voltage, vibration, pressure & rotation are normally distributed."
   ]
  },
  {
   "cell_type": "markdown",
   "metadata": {},
   "source": [
    "### Errors Dataset (PdM_errors.csv)\n",
    "\n",
    "This data includes the errors encountered by the machines while in operating condition. Since, these errors don't shut down the machines, these are not considered as failures. The error date and times are rounded to the closest hour since the telemetry data is collected at an hourly rate."
   ]
  },
  {
   "cell_type": "code",
   "execution_count": 14,
   "metadata": {},
   "outputs": [
    {
     "name": "stdout",
     "output_type": "stream",
     "text": [
      "Total number of error records: 3919\n",
      "             datetime  machineID errorID\n",
      "0 2015-01-03 07:00:00          1  error1\n",
      "1 2015-01-03 20:00:00          1  error3\n",
      "2 2015-01-04 06:00:00          1  error5\n",
      "3 2015-01-10 15:00:00          1  error4\n",
      "4 2015-01-22 10:00:00          1  error4\n"
     ]
    }
   ],
   "source": [
    "# Format datetime field which comes in as string\n",
    "errors['datetime'] = pd.to_datetime(errors['datetime'], format=\"%Y-%m-%d %H:%M:%S\")\n",
    "errors['errorID'] = errors['errorID'].astype('category')\n",
    "\n",
    "print(\"Total number of error records: %d\" % len(errors.index))\n",
    "print(errors.head())"
   ]
  },
  {
   "cell_type": "markdown",
   "metadata": {},
   "source": [
    "<b>Are there any duplicates?</b><br>\n",
    "One Machine should not have multiple errors with the same time stamp"
   ]
  },
  {
   "cell_type": "code",
   "execution_count": 15,
   "metadata": {},
   "outputs": [
    {
     "data": {
      "text/plain": [
       "0"
      ]
     },
     "execution_count": 15,
     "metadata": {},
     "output_type": "execute_result"
    }
   ],
   "source": [
    "check_duplicate(errors, ['datetime', 'machineID', 'errorID'])"
   ]
  },
  {
   "cell_type": "markdown",
   "metadata": {},
   "source": [
    "There are no duplicates in the error data."
   ]
  },
  {
   "cell_type": "code",
   "execution_count": 16,
   "metadata": {},
   "outputs": [
    {
     "data": {
      "image/png": "[encoded data removed]",
      "text/plain": [
       "<Figure size 576x288 with 1 Axes>"
      ]
     },
     "metadata": {},
     "output_type": "display_data"
    }
   ],
   "source": [
    "#Plotting the histrogram of errors.\n",
    "sns.set_style(\"darkgrid\")\n",
    "plt.figure(figsize=(8, 4))\n",
    "errors['errorID'].value_counts().plot(kind='bar', fontsize=14)\n",
    "plt.title(\"Histrogram of errors\", fontsize=16)\n",
    "plt.ylabel('Count', fontsize=14)\n",
    "plt.show()"
   ]
  },
  {
   "cell_type": "markdown",
   "metadata": {},
   "source": [
    "Type 1 & 2 errors are most frequent"
   ]
  },
  {
   "cell_type": "markdown",
   "metadata": {},
   "source": [
    "###  Maintenance (PdM_maint.csv)\n",
    "\n",
    "If a component of a machine is replaced, that is captured as a record in this table. Components are replaced under two situations:\n",
    "\n",
    "- During the regular scheduled visit, the technician replaced it (Proactive Maintenance)\n",
    "- A component breaks down and then the technician does an unscheduled maintenance to replace the component (Reactive Maintenance). This is considered as a failure and corresponding data is captured under Failures. Maintenance data has both 2014 and 2015 records. This data is rounded to the closest hour since the telemetry data is collected at an hourly rate."
   ]
  },
  {
   "cell_type": "code",
   "execution_count": 17,
   "metadata": {},
   "outputs": [
    {
     "name": "stdout",
     "output_type": "stream",
     "text": [
      "Total number of maintenance records: 3286\n"
     ]
    },
    {
     "data": {
      "text/html": [
       "<div>\n",
       "<style scoped>\n",
       "    .dataframe tbody tr th:only-of-type {\n",
       "        vertical-align: middle;\n",
       "    }\n",
       "\n",
       "    .dataframe tbody tr th {\n",
       "        vertical-align: top;\n",
       "    }\n",
       "\n",
       "    .dataframe thead th {\n",
       "        text-align: right;\n",
       "    }\n",
       "</style>\n",
       "<table border=\"1\" class=\"dataframe\">\n",
       "  <thead>\n",
       "    <tr style=\"text-align: right;\">\n",
       "      <th></th>\n",
       "      <th>datetime</th>\n",
       "      <th>machineID</th>\n",
       "      <th>comp</th>\n",
       "    </tr>\n",
       "  </thead>\n",
       "  <tbody>\n",
       "    <tr>\n",
       "      <th>0</th>\n",
       "      <td>2014-06-01 06:00:00</td>\n",
       "      <td>1</td>\n",
       "      <td>comp2</td>\n",
       "    </tr>\n",
       "    <tr>\n",
       "      <th>1</th>\n",
       "      <td>2014-07-16 06:00:00</td>\n",
       "      <td>1</td>\n",
       "      <td>comp4</td>\n",
       "    </tr>\n",
       "    <tr>\n",
       "      <th>2</th>\n",
       "      <td>2014-07-31 06:00:00</td>\n",
       "      <td>1</td>\n",
       "      <td>comp3</td>\n",
       "    </tr>\n",
       "    <tr>\n",
       "      <th>3</th>\n",
       "      <td>2014-12-13 06:00:00</td>\n",
       "      <td>1</td>\n",
       "      <td>comp1</td>\n",
       "    </tr>\n",
       "    <tr>\n",
       "      <th>4</th>\n",
       "      <td>2015-01-05 06:00:00</td>\n",
       "      <td>1</td>\n",
       "      <td>comp4</td>\n",
       "    </tr>\n",
       "  </tbody>\n",
       "</table>\n",
       "</div>"
      ],
      "text/plain": [
       "             datetime  machineID   comp\n",
       "0 2014-06-01 06:00:00          1  comp2\n",
       "1 2014-07-16 06:00:00          1  comp4\n",
       "2 2014-07-31 06:00:00          1  comp3\n",
       "3 2014-12-13 06:00:00          1  comp1\n",
       "4 2015-01-05 06:00:00          1  comp4"
      ]
     },
     "execution_count": 17,
     "metadata": {},
     "output_type": "execute_result"
    }
   ],
   "source": [
    "# Format datetime field which comes in as string\n",
    "maint['datetime'] = pd.to_datetime(maint['datetime'], format=\"%Y-%m-%d %H:%M:%S\")\n",
    "maint['comp'] = maint['comp'].astype('category')\n",
    "\n",
    "print(\"Total number of maintenance records: %d\" % len(maint.index))\n",
    "maint.head()"
   ]
  },
  {
   "cell_type": "code",
   "execution_count": 18,
   "metadata": {},
   "outputs": [
    {
     "data": {
      "image/png": "[encoded data removed]",
      "text/plain": [
       "<Figure size 576x288 with 1 Axes>"
      ]
     },
     "metadata": {},
     "output_type": "display_data"
    }
   ],
   "source": [
    "sns.set_style(\"darkgrid\")\n",
    "plt.figure(figsize=(8, 4))\n",
    "maint['comp'].value_counts().plot(kind='bar',fontsize=14)\n",
    "plt.ylabel('Count', fontsize=14)\n",
    "plt.title(\"Histrogram of replaced components\", fontsize=16)\n",
    "plt.show()"
   ]
  },
  {
   "cell_type": "markdown",
   "metadata": {},
   "source": [
    "Four types components are replaced almost in the same numbers."
   ]
  },
  {
   "cell_type": "markdown",
   "metadata": {},
   "source": [
    "### Metadata of Machines (PdM_Machines.csv)\n",
    "\n",
    "This data set includes some information about the machines: model type and age (years in service)."
   ]
  },
  {
   "cell_type": "code",
   "execution_count": 19,
   "metadata": {
    "scrolled": true
   },
   "outputs": [
    {
     "name": "stdout",
     "output_type": "stream",
     "text": [
      "Total number of machines: 100\n"
     ]
    },
    {
     "data": {
      "text/html": [
       "<div>\n",
       "<style scoped>\n",
       "    .dataframe tbody tr th:only-of-type {\n",
       "        vertical-align: middle;\n",
       "    }\n",
       "\n",
       "    .dataframe tbody tr th {\n",
       "        vertical-align: top;\n",
       "    }\n",
       "\n",
       "    .dataframe thead th {\n",
       "        text-align: right;\n",
       "    }\n",
       "</style>\n",
       "<table border=\"1\" class=\"dataframe\">\n",
       "  <thead>\n",
       "    <tr style=\"text-align: right;\">\n",
       "      <th></th>\n",
       "      <th>machineID</th>\n",
       "      <th>model</th>\n",
       "      <th>age</th>\n",
       "    </tr>\n",
       "  </thead>\n",
       "  <tbody>\n",
       "    <tr>\n",
       "      <th>0</th>\n",
       "      <td>1</td>\n",
       "      <td>model3</td>\n",
       "      <td>18</td>\n",
       "    </tr>\n",
       "    <tr>\n",
       "      <th>1</th>\n",
       "      <td>2</td>\n",
       "      <td>model4</td>\n",
       "      <td>7</td>\n",
       "    </tr>\n",
       "    <tr>\n",
       "      <th>2</th>\n",
       "      <td>3</td>\n",
       "      <td>model3</td>\n",
       "      <td>8</td>\n",
       "    </tr>\n",
       "    <tr>\n",
       "      <th>3</th>\n",
       "      <td>4</td>\n",
       "      <td>model3</td>\n",
       "      <td>7</td>\n",
       "    </tr>\n",
       "    <tr>\n",
       "      <th>4</th>\n",
       "      <td>5</td>\n",
       "      <td>model3</td>\n",
       "      <td>2</td>\n",
       "    </tr>\n",
       "  </tbody>\n",
       "</table>\n",
       "</div>"
      ],
      "text/plain": [
       "   machineID   model  age\n",
       "0          1  model3   18\n",
       "1          2  model4    7\n",
       "2          3  model3    8\n",
       "3          4  model3    7\n",
       "4          5  model3    2"
      ]
     },
     "execution_count": 19,
     "metadata": {},
     "output_type": "execute_result"
    }
   ],
   "source": [
    "machines['model'] = machines['model'].astype('category')\n",
    "\n",
    "print(\"Total number of machines: %d\" % len(machines.index))\n",
    "machines.head()"
   ]
  },
  {
   "cell_type": "markdown",
   "metadata": {},
   "source": [
    "<b>Create a Data Frame with number of errors, maintenance records and failure records across machines."
   ]
  },
  {
   "cell_type": "code",
   "execution_count": 20,
   "metadata": {},
   "outputs": [
    {
     "data": {
      "text/html": [
       "<div>\n",
       "<style scoped>\n",
       "    .dataframe tbody tr th:only-of-type {\n",
       "        vertical-align: middle;\n",
       "    }\n",
       "\n",
       "    .dataframe tbody tr th {\n",
       "        vertical-align: top;\n",
       "    }\n",
       "\n",
       "    .dataframe thead th {\n",
       "        text-align: right;\n",
       "    }\n",
       "</style>\n",
       "<table border=\"1\" class=\"dataframe\">\n",
       "  <thead>\n",
       "    <tr style=\"text-align: right;\">\n",
       "      <th></th>\n",
       "      <th>machineID</th>\n",
       "      <th>model</th>\n",
       "      <th>age</th>\n",
       "      <th>num_errors</th>\n",
       "      <th>num_maint</th>\n",
       "      <th>num_failure</th>\n",
       "    </tr>\n",
       "  </thead>\n",
       "  <tbody>\n",
       "    <tr>\n",
       "      <th>0</th>\n",
       "      <td>1</td>\n",
       "      <td>model3</td>\n",
       "      <td>18</td>\n",
       "      <td>35</td>\n",
       "      <td>37</td>\n",
       "      <td>7.0</td>\n",
       "    </tr>\n",
       "    <tr>\n",
       "      <th>1</th>\n",
       "      <td>2</td>\n",
       "      <td>model4</td>\n",
       "      <td>7</td>\n",
       "      <td>28</td>\n",
       "      <td>32</td>\n",
       "      <td>4.0</td>\n",
       "    </tr>\n",
       "    <tr>\n",
       "      <th>2</th>\n",
       "      <td>3</td>\n",
       "      <td>model3</td>\n",
       "      <td>8</td>\n",
       "      <td>39</td>\n",
       "      <td>37</td>\n",
       "      <td>5.0</td>\n",
       "    </tr>\n",
       "    <tr>\n",
       "      <th>3</th>\n",
       "      <td>4</td>\n",
       "      <td>model3</td>\n",
       "      <td>7</td>\n",
       "      <td>31</td>\n",
       "      <td>33</td>\n",
       "      <td>6.0</td>\n",
       "    </tr>\n",
       "    <tr>\n",
       "      <th>4</th>\n",
       "      <td>5</td>\n",
       "      <td>model3</td>\n",
       "      <td>2</td>\n",
       "      <td>38</td>\n",
       "      <td>35</td>\n",
       "      <td>7.0</td>\n",
       "    </tr>\n",
       "  </tbody>\n",
       "</table>\n",
       "</div>"
      ],
      "text/plain": [
       "   machineID   model  age  num_errors  num_maint  num_failure\n",
       "0          1  model3   18          35         37          7.0\n",
       "1          2  model4    7          28         32          4.0\n",
       "2          3  model3    8          39         37          5.0\n",
       "3          4  model3    7          31         33          6.0\n",
       "4          5  model3    2          38         35          7.0"
      ]
     },
     "execution_count": 20,
     "metadata": {},
     "output_type": "execute_result"
    }
   ],
   "source": [
    "# Create a DF with number of errors, maintenance records and failure records across machines\n",
    "\n",
    "# Create a DF consisting of number of erros across Machines\n",
    "erros_across_machine = errors.groupby(\"machineID\").size()\n",
    "erros_across_machine = pd.DataFrame(erros_across_machine, columns=[\"num_errors\"]).reset_index()\n",
    "\n",
    "machines_errors_df = pd.merge(machines, erros_across_machine, how='left', on=\"machineID\")\n",
    "\n",
    "# Create a DF consisting of number of maintenance records across Machines\n",
    "maint_across_machine = maint.groupby(\"machineID\").size()\n",
    "maint_across_machine = pd.DataFrame(maint_across_machine, columns=[\"num_maint\"]).reset_index()\n",
    "\n",
    "machines_errors_df = pd.merge(machines_errors_df, maint_across_machine, how='left', on=\"machineID\")\n",
    "\n",
    "# Create a DF consisting of number of failure records across Machines\n",
    "failure_across_machine = failures.groupby(\"machineID\").size()\n",
    "failure_across_machine = pd.DataFrame(failure_across_machine, columns=[\"num_failure\"]).reset_index()\n",
    "\n",
    "machines_errors_df = pd.merge(machines_errors_df, failure_across_machine, how='left', on=\"machineID\")\n",
    "\n",
    "machines_errors_df.head()"
   ]
  },
  {
   "cell_type": "markdown",
   "metadata": {},
   "source": [
    "Let's compute correlation values in machines_errors_df."
   ]
  },
  {
   "cell_type": "code",
   "execution_count": 21,
   "metadata": {},
   "outputs": [
    {
     "data": {
      "text/html": [
       "<div>\n",
       "<style scoped>\n",
       "    .dataframe tbody tr th:only-of-type {\n",
       "        vertical-align: middle;\n",
       "    }\n",
       "\n",
       "    .dataframe tbody tr th {\n",
       "        vertical-align: top;\n",
       "    }\n",
       "\n",
       "    .dataframe thead th {\n",
       "        text-align: right;\n",
       "    }\n",
       "</style>\n",
       "<table border=\"1\" class=\"dataframe\">\n",
       "  <thead>\n",
       "    <tr style=\"text-align: right;\">\n",
       "      <th></th>\n",
       "      <th>machineID</th>\n",
       "      <th>age</th>\n",
       "      <th>num_errors</th>\n",
       "      <th>num_maint</th>\n",
       "      <th>num_failure</th>\n",
       "    </tr>\n",
       "  </thead>\n",
       "  <tbody>\n",
       "    <tr>\n",
       "      <th>machineID</th>\n",
       "      <td>1.000000</td>\n",
       "      <td>0.100196</td>\n",
       "      <td>0.107982</td>\n",
       "      <td>-0.077903</td>\n",
       "      <td>0.096496</td>\n",
       "    </tr>\n",
       "    <tr>\n",
       "      <th>age</th>\n",
       "      <td>0.100196</td>\n",
       "      <td>1.000000</td>\n",
       "      <td>0.106931</td>\n",
       "      <td>0.075445</td>\n",
       "      <td>0.476459</td>\n",
       "    </tr>\n",
       "    <tr>\n",
       "      <th>num_errors</th>\n",
       "      <td>0.107982</td>\n",
       "      <td>0.106931</td>\n",
       "      <td>1.000000</td>\n",
       "      <td>-0.026558</td>\n",
       "      <td>0.483735</td>\n",
       "    </tr>\n",
       "    <tr>\n",
       "      <th>num_maint</th>\n",
       "      <td>-0.077903</td>\n",
       "      <td>0.075445</td>\n",
       "      <td>-0.026558</td>\n",
       "      <td>1.000000</td>\n",
       "      <td>-0.030258</td>\n",
       "    </tr>\n",
       "    <tr>\n",
       "      <th>num_failure</th>\n",
       "      <td>0.096496</td>\n",
       "      <td>0.476459</td>\n",
       "      <td>0.483735</td>\n",
       "      <td>-0.030258</td>\n",
       "      <td>1.000000</td>\n",
       "    </tr>\n",
       "  </tbody>\n",
       "</table>\n",
       "</div>"
      ],
      "text/plain": [
       "             machineID       age  num_errors  num_maint  num_failure\n",
       "machineID     1.000000  0.100196    0.107982  -0.077903     0.096496\n",
       "age           0.100196  1.000000    0.106931   0.075445     0.476459\n",
       "num_errors    0.107982  0.106931    1.000000  -0.026558     0.483735\n",
       "num_maint    -0.077903  0.075445   -0.026558   1.000000    -0.030258\n",
       "num_failure   0.096496  0.476459    0.483735  -0.030258     1.000000"
      ]
     },
     "execution_count": 21,
     "metadata": {},
     "output_type": "execute_result"
    }
   ],
   "source": [
    "machines_errors_df.corr()"
   ]
  },
  {
   "cell_type": "markdown",
   "metadata": {},
   "source": [
    "From the above table, it is observed that attribute 'age' and 'number errors' have correlation with number of failure.  "
   ]
  },
  {
   "cell_type": "markdown",
   "metadata": {},
   "source": [
    "###  Failures (PdM_failures.csv)\n",
    "\n",
    "These are the records of component replacements due to failures. Each record has a date and time, machine ID, and failed component type."
   ]
  },
  {
   "cell_type": "code",
   "execution_count": 22,
   "metadata": {},
   "outputs": [
    {
     "name": "stdout",
     "output_type": "stream",
     "text": [
      "Total number of failures: 761\n"
     ]
    },
    {
     "data": {
      "text/html": [
       "<div>\n",
       "<style scoped>\n",
       "    .dataframe tbody tr th:only-of-type {\n",
       "        vertical-align: middle;\n",
       "    }\n",
       "\n",
       "    .dataframe tbody tr th {\n",
       "        vertical-align: top;\n",
       "    }\n",
       "\n",
       "    .dataframe thead th {\n",
       "        text-align: right;\n",
       "    }\n",
       "</style>\n",
       "<table border=\"1\" class=\"dataframe\">\n",
       "  <thead>\n",
       "    <tr style=\"text-align: right;\">\n",
       "      <th></th>\n",
       "      <th>datetime</th>\n",
       "      <th>machineID</th>\n",
       "      <th>failure</th>\n",
       "    </tr>\n",
       "  </thead>\n",
       "  <tbody>\n",
       "    <tr>\n",
       "      <th>0</th>\n",
       "      <td>2015-01-05 06:00:00</td>\n",
       "      <td>1</td>\n",
       "      <td>comp4</td>\n",
       "    </tr>\n",
       "    <tr>\n",
       "      <th>1</th>\n",
       "      <td>2015-03-06 06:00:00</td>\n",
       "      <td>1</td>\n",
       "      <td>comp1</td>\n",
       "    </tr>\n",
       "    <tr>\n",
       "      <th>2</th>\n",
       "      <td>2015-04-20 06:00:00</td>\n",
       "      <td>1</td>\n",
       "      <td>comp2</td>\n",
       "    </tr>\n",
       "    <tr>\n",
       "      <th>3</th>\n",
       "      <td>2015-06-19 06:00:00</td>\n",
       "      <td>1</td>\n",
       "      <td>comp4</td>\n",
       "    </tr>\n",
       "    <tr>\n",
       "      <th>4</th>\n",
       "      <td>2015-09-02 06:00:00</td>\n",
       "      <td>1</td>\n",
       "      <td>comp4</td>\n",
       "    </tr>\n",
       "  </tbody>\n",
       "</table>\n",
       "</div>"
      ],
      "text/plain": [
       "             datetime  machineID failure\n",
       "0 2015-01-05 06:00:00          1   comp4\n",
       "1 2015-03-06 06:00:00          1   comp1\n",
       "2 2015-04-20 06:00:00          1   comp2\n",
       "3 2015-06-19 06:00:00          1   comp4\n",
       "4 2015-09-02 06:00:00          1   comp4"
      ]
     },
     "execution_count": 22,
     "metadata": {},
     "output_type": "execute_result"
    }
   ],
   "source": [
    "# Format datetime field which comes in as string.\n",
    "\n",
    "failures['datetime'] = pd.to_datetime(failures['datetime'], format=\"%Y-%m-%d %H:%M:%S\")\n",
    "failures['failure'] = failures['failure'].astype('category')\n",
    "\n",
    "print(\"Total number of failures: %d\" % len(failures.index))\n",
    "failures.head()"
   ]
  },
  {
   "cell_type": "markdown",
   "metadata": {},
   "source": [
    "Below is the histogram of the failures due to each component. We see that the most failures happen due to component 2."
   ]
  },
  {
   "cell_type": "code",
   "execution_count": 23,
   "metadata": {
    "scrolled": true
   },
   "outputs": [
    {
     "data": {
      "image/png": "[encoded data removed]",
      "text/plain": [
       "<Figure size 576x288 with 1 Axes>"
      ]
     },
     "metadata": {},
     "output_type": "display_data"
    }
   ],
   "source": [
    "sns.set_style(\"darkgrid\")\n",
    "plt.figure(figsize=(8, 4))\n",
    "failures['failure'].value_counts().plot(kind='bar', fontsize=14)\n",
    "plt.ylabel('Count', fontsize=14)\n",
    "plt.title(\"Histogram of component failure\", fontsize=16)\n",
    "plt.show()"
   ]
  },
  {
   "cell_type": "markdown",
   "metadata": {},
   "source": [
    "# First Cut Approach:\n",
    "\n",
    "<b>Objective of this step to predict the failure of machines' components (comp1, comp2 etc.) based on available data without performing feature engineering and hyper-parameter tuning of model. <br>\n",
    "   Steps to be followed:</b>\n",
    "1. Load all the data sets\n",
    "2. Perform one hot encoding for categorical attributes\n",
    "3. Merger all the data sets after step no-2.\n",
    "4. Split the data sets into train, cross validation and test set.\n",
    "5. Apply Xgboost classifier and random forest classifier on train data set.\n",
    "6. As the dataset is highly imbalance, so F1 score, Precision, Recall and Confusion matrix will be computed to validate the performance of models."
   ]
  },
  {
   "cell_type": "code",
   "execution_count": 24,
   "metadata": {},
   "outputs": [],
   "source": [
    "#Loading all the datasets using Pandas library\n",
    "import pandas as pd\n",
    "\n",
    "telemetry = pd.read_csv('PdM_telemetry.csv')\n",
    "errors = pd.read_csv('PdM_errors.csv')\n",
    "maint = pd.read_csv('PdM_maint.csv')\n",
    "failures = pd.read_csv('PdM_failures.csv')\n",
    "machines = pd.read_csv('PdM_machines.csv')"
   ]
  },
  {
   "cell_type": "code",
   "execution_count": 25,
   "metadata": {},
   "outputs": [],
   "source": [
    "# Formating datetime field.\n",
    "telemetry['datetime'] = pd.to_datetime(telemetry['datetime'], format=\"%Y-%m-%d %H:%M:%S\")\n",
    "\n",
    "errors['datetime'] = pd.to_datetime(errors['datetime'], format=\"%Y-%m-%d %H:%M:%S\")\n",
    "errors['errorID'] = errors['errorID'].astype('category')\n",
    "\n",
    "maint['datetime'] = pd.to_datetime(maint['datetime'], format=\"%Y-%m-%d %H:%M:%S\")\n",
    "maint['comp'] = maint['comp'].astype('category')\n",
    "\n",
    "machines['model'] = machines['model'].astype('category')\n",
    "\n",
    "failures['datetime'] = pd.to_datetime(failures['datetime'], format=\"%Y-%m-%d %H:%M:%S\")\n",
    "failures['failure'] = failures['failure'].astype('category')"
   ]
  },
  {
   "cell_type": "code",
   "execution_count": 26,
   "metadata": {},
   "outputs": [
    {
     "data": {
      "text/html": [
       "<div>\n",
       "<style scoped>\n",
       "    .dataframe tbody tr th:only-of-type {\n",
       "        vertical-align: middle;\n",
       "    }\n",
       "\n",
       "    .dataframe tbody tr th {\n",
       "        vertical-align: top;\n",
       "    }\n",
       "\n",
       "    .dataframe thead th {\n",
       "        text-align: right;\n",
       "    }\n",
       "</style>\n",
       "<table border=\"1\" class=\"dataframe\">\n",
       "  <thead>\n",
       "    <tr style=\"text-align: right;\">\n",
       "      <th></th>\n",
       "      <th>datetime</th>\n",
       "      <th>machineID</th>\n",
       "      <th>volt</th>\n",
       "      <th>rotate</th>\n",
       "      <th>pressure</th>\n",
       "      <th>vibration</th>\n",
       "    </tr>\n",
       "  </thead>\n",
       "  <tbody>\n",
       "    <tr>\n",
       "      <th>0</th>\n",
       "      <td>2015-01-01 06:00:00</td>\n",
       "      <td>1</td>\n",
       "      <td>176.217853</td>\n",
       "      <td>418.504078</td>\n",
       "      <td>113.077935</td>\n",
       "      <td>45.087686</td>\n",
       "    </tr>\n",
       "    <tr>\n",
       "      <th>1</th>\n",
       "      <td>2015-01-01 07:00:00</td>\n",
       "      <td>1</td>\n",
       "      <td>162.879223</td>\n",
       "      <td>402.747490</td>\n",
       "      <td>95.460525</td>\n",
       "      <td>43.413973</td>\n",
       "    </tr>\n",
       "  </tbody>\n",
       "</table>\n",
       "</div>"
      ],
      "text/plain": [
       "             datetime  machineID        volt      rotate    pressure  \\\n",
       "0 2015-01-01 06:00:00          1  176.217853  418.504078  113.077935   \n",
       "1 2015-01-01 07:00:00          1  162.879223  402.747490   95.460525   \n",
       "\n",
       "   vibration  \n",
       "0  45.087686  \n",
       "1  43.413973  "
      ]
     },
     "execution_count": 26,
     "metadata": {},
     "output_type": "execute_result"
    }
   ],
   "source": [
    "telemetry.head(2)"
   ]
  },
  {
   "cell_type": "code",
   "execution_count": 27,
   "metadata": {},
   "outputs": [
    {
     "data": {
      "text/html": [
       "<div>\n",
       "<style scoped>\n",
       "    .dataframe tbody tr th:only-of-type {\n",
       "        vertical-align: middle;\n",
       "    }\n",
       "\n",
       "    .dataframe tbody tr th {\n",
       "        vertical-align: top;\n",
       "    }\n",
       "\n",
       "    .dataframe thead th {\n",
       "        text-align: right;\n",
       "    }\n",
       "</style>\n",
       "<table border=\"1\" class=\"dataframe\">\n",
       "  <thead>\n",
       "    <tr style=\"text-align: right;\">\n",
       "      <th></th>\n",
       "      <th>datetime</th>\n",
       "      <th>machineID</th>\n",
       "      <th>errorID</th>\n",
       "    </tr>\n",
       "  </thead>\n",
       "  <tbody>\n",
       "    <tr>\n",
       "      <th>0</th>\n",
       "      <td>2015-01-03 07:00:00</td>\n",
       "      <td>1</td>\n",
       "      <td>error1</td>\n",
       "    </tr>\n",
       "    <tr>\n",
       "      <th>1</th>\n",
       "      <td>2015-01-03 20:00:00</td>\n",
       "      <td>1</td>\n",
       "      <td>error3</td>\n",
       "    </tr>\n",
       "  </tbody>\n",
       "</table>\n",
       "</div>"
      ],
      "text/plain": [
       "             datetime  machineID errorID\n",
       "0 2015-01-03 07:00:00          1  error1\n",
       "1 2015-01-03 20:00:00          1  error3"
      ]
     },
     "execution_count": 27,
     "metadata": {},
     "output_type": "execute_result"
    }
   ],
   "source": [
    "errors.head(2)"
   ]
  },
  {
   "cell_type": "code",
   "execution_count": 28,
   "metadata": {},
   "outputs": [
    {
     "data": {
      "text/html": [
       "<div>\n",
       "<style scoped>\n",
       "    .dataframe tbody tr th:only-of-type {\n",
       "        vertical-align: middle;\n",
       "    }\n",
       "\n",
       "    .dataframe tbody tr th {\n",
       "        vertical-align: top;\n",
       "    }\n",
       "\n",
       "    .dataframe thead th {\n",
       "        text-align: right;\n",
       "    }\n",
       "</style>\n",
       "<table border=\"1\" class=\"dataframe\">\n",
       "  <thead>\n",
       "    <tr style=\"text-align: right;\">\n",
       "      <th></th>\n",
       "      <th>datetime</th>\n",
       "      <th>machineID</th>\n",
       "      <th>errorID_error1</th>\n",
       "      <th>errorID_error2</th>\n",
       "      <th>errorID_error3</th>\n",
       "      <th>errorID_error4</th>\n",
       "      <th>errorID_error5</th>\n",
       "    </tr>\n",
       "  </thead>\n",
       "  <tbody>\n",
       "    <tr>\n",
       "      <th>0</th>\n",
       "      <td>2015-01-03 07:00:00</td>\n",
       "      <td>1</td>\n",
       "      <td>1</td>\n",
       "      <td>0</td>\n",
       "      <td>0</td>\n",
       "      <td>0</td>\n",
       "      <td>0</td>\n",
       "    </tr>\n",
       "    <tr>\n",
       "      <th>1</th>\n",
       "      <td>2015-01-03 20:00:00</td>\n",
       "      <td>1</td>\n",
       "      <td>0</td>\n",
       "      <td>0</td>\n",
       "      <td>1</td>\n",
       "      <td>0</td>\n",
       "      <td>0</td>\n",
       "    </tr>\n",
       "  </tbody>\n",
       "</table>\n",
       "</div>"
      ],
      "text/plain": [
       "             datetime  machineID  errorID_error1  errorID_error2  \\\n",
       "0 2015-01-03 07:00:00          1               1               0   \n",
       "1 2015-01-03 20:00:00          1               0               0   \n",
       "\n",
       "   errorID_error3  errorID_error4  errorID_error5  \n",
       "0               0               0               0  \n",
       "1               1               0               0  "
      ]
     },
     "execution_count": 28,
     "metadata": {},
     "output_type": "execute_result"
    }
   ],
   "source": [
    "errors=pd.get_dummies(errors)\n",
    "errors.head(2)"
   ]
  },
  {
   "cell_type": "code",
   "execution_count": 29,
   "metadata": {
    "scrolled": true
   },
   "outputs": [
    {
     "data": {
      "text/html": [
       "<div>\n",
       "<style scoped>\n",
       "    .dataframe tbody tr th:only-of-type {\n",
       "        vertical-align: middle;\n",
       "    }\n",
       "\n",
       "    .dataframe tbody tr th {\n",
       "        vertical-align: top;\n",
       "    }\n",
       "\n",
       "    .dataframe thead th {\n",
       "        text-align: right;\n",
       "    }\n",
       "</style>\n",
       "<table border=\"1\" class=\"dataframe\">\n",
       "  <thead>\n",
       "    <tr style=\"text-align: right;\">\n",
       "      <th></th>\n",
       "      <th>datetime</th>\n",
       "      <th>machineID</th>\n",
       "      <th>comp</th>\n",
       "    </tr>\n",
       "  </thead>\n",
       "  <tbody>\n",
       "    <tr>\n",
       "      <th>0</th>\n",
       "      <td>2014-06-01 06:00:00</td>\n",
       "      <td>1</td>\n",
       "      <td>comp2</td>\n",
       "    </tr>\n",
       "    <tr>\n",
       "      <th>1</th>\n",
       "      <td>2014-07-16 06:00:00</td>\n",
       "      <td>1</td>\n",
       "      <td>comp4</td>\n",
       "    </tr>\n",
       "  </tbody>\n",
       "</table>\n",
       "</div>"
      ],
      "text/plain": [
       "             datetime  machineID   comp\n",
       "0 2014-06-01 06:00:00          1  comp2\n",
       "1 2014-07-16 06:00:00          1  comp4"
      ]
     },
     "execution_count": 29,
     "metadata": {},
     "output_type": "execute_result"
    }
   ],
   "source": [
    "maint.head(2)"
   ]
  },
  {
   "cell_type": "code",
   "execution_count": 30,
   "metadata": {},
   "outputs": [
    {
     "data": {
      "text/html": [
       "<div>\n",
       "<style scoped>\n",
       "    .dataframe tbody tr th:only-of-type {\n",
       "        vertical-align: middle;\n",
       "    }\n",
       "\n",
       "    .dataframe tbody tr th {\n",
       "        vertical-align: top;\n",
       "    }\n",
       "\n",
       "    .dataframe thead th {\n",
       "        text-align: right;\n",
       "    }\n",
       "</style>\n",
       "<table border=\"1\" class=\"dataframe\">\n",
       "  <thead>\n",
       "    <tr style=\"text-align: right;\">\n",
       "      <th></th>\n",
       "      <th>datetime</th>\n",
       "      <th>machineID</th>\n",
       "      <th>comp_comp1</th>\n",
       "      <th>comp_comp2</th>\n",
       "      <th>comp_comp3</th>\n",
       "      <th>comp_comp4</th>\n",
       "    </tr>\n",
       "  </thead>\n",
       "  <tbody>\n",
       "    <tr>\n",
       "      <th>0</th>\n",
       "      <td>2014-06-01 06:00:00</td>\n",
       "      <td>1</td>\n",
       "      <td>0</td>\n",
       "      <td>1</td>\n",
       "      <td>0</td>\n",
       "      <td>0</td>\n",
       "    </tr>\n",
       "    <tr>\n",
       "      <th>1</th>\n",
       "      <td>2014-07-16 06:00:00</td>\n",
       "      <td>1</td>\n",
       "      <td>0</td>\n",
       "      <td>0</td>\n",
       "      <td>0</td>\n",
       "      <td>1</td>\n",
       "    </tr>\n",
       "  </tbody>\n",
       "</table>\n",
       "</div>"
      ],
      "text/plain": [
       "             datetime  machineID  comp_comp1  comp_comp2  comp_comp3  \\\n",
       "0 2014-06-01 06:00:00          1           0           1           0   \n",
       "1 2014-07-16 06:00:00          1           0           0           0   \n",
       "\n",
       "   comp_comp4  \n",
       "0           0  \n",
       "1           1  "
      ]
     },
     "execution_count": 30,
     "metadata": {},
     "output_type": "execute_result"
    }
   ],
   "source": [
    "maint=pd.get_dummies(maint)\n",
    "maint.head(2)"
   ]
  },
  {
   "cell_type": "code",
   "execution_count": 31,
   "metadata": {},
   "outputs": [
    {
     "data": {
      "text/html": [
       "<div>\n",
       "<style scoped>\n",
       "    .dataframe tbody tr th:only-of-type {\n",
       "        vertical-align: middle;\n",
       "    }\n",
       "\n",
       "    .dataframe tbody tr th {\n",
       "        vertical-align: top;\n",
       "    }\n",
       "\n",
       "    .dataframe thead th {\n",
       "        text-align: right;\n",
       "    }\n",
       "</style>\n",
       "<table border=\"1\" class=\"dataframe\">\n",
       "  <thead>\n",
       "    <tr style=\"text-align: right;\">\n",
       "      <th></th>\n",
       "      <th>machineID</th>\n",
       "      <th>model</th>\n",
       "      <th>age</th>\n",
       "    </tr>\n",
       "  </thead>\n",
       "  <tbody>\n",
       "    <tr>\n",
       "      <th>0</th>\n",
       "      <td>1</td>\n",
       "      <td>model3</td>\n",
       "      <td>18</td>\n",
       "    </tr>\n",
       "    <tr>\n",
       "      <th>1</th>\n",
       "      <td>2</td>\n",
       "      <td>model4</td>\n",
       "      <td>7</td>\n",
       "    </tr>\n",
       "  </tbody>\n",
       "</table>\n",
       "</div>"
      ],
      "text/plain": [
       "   machineID   model  age\n",
       "0          1  model3   18\n",
       "1          2  model4    7"
      ]
     },
     "execution_count": 31,
     "metadata": {},
     "output_type": "execute_result"
    }
   ],
   "source": [
    "machines.head(2)"
   ]
  },
  {
   "cell_type": "code",
   "execution_count": 32,
   "metadata": {},
   "outputs": [
    {
     "data": {
      "text/html": [
       "<div>\n",
       "<style scoped>\n",
       "    .dataframe tbody tr th:only-of-type {\n",
       "        vertical-align: middle;\n",
       "    }\n",
       "\n",
       "    .dataframe tbody tr th {\n",
       "        vertical-align: top;\n",
       "    }\n",
       "\n",
       "    .dataframe thead th {\n",
       "        text-align: right;\n",
       "    }\n",
       "</style>\n",
       "<table border=\"1\" class=\"dataframe\">\n",
       "  <thead>\n",
       "    <tr style=\"text-align: right;\">\n",
       "      <th></th>\n",
       "      <th>machineID</th>\n",
       "      <th>age</th>\n",
       "      <th>model_model1</th>\n",
       "      <th>model_model2</th>\n",
       "      <th>model_model3</th>\n",
       "      <th>model_model4</th>\n",
       "    </tr>\n",
       "  </thead>\n",
       "  <tbody>\n",
       "    <tr>\n",
       "      <th>0</th>\n",
       "      <td>1</td>\n",
       "      <td>18</td>\n",
       "      <td>0</td>\n",
       "      <td>0</td>\n",
       "      <td>1</td>\n",
       "      <td>0</td>\n",
       "    </tr>\n",
       "    <tr>\n",
       "      <th>1</th>\n",
       "      <td>2</td>\n",
       "      <td>7</td>\n",
       "      <td>0</td>\n",
       "      <td>0</td>\n",
       "      <td>0</td>\n",
       "      <td>1</td>\n",
       "    </tr>\n",
       "  </tbody>\n",
       "</table>\n",
       "</div>"
      ],
      "text/plain": [
       "   machineID  age  model_model1  model_model2  model_model3  model_model4\n",
       "0          1   18             0             0             1             0\n",
       "1          2    7             0             0             0             1"
      ]
     },
     "execution_count": 32,
     "metadata": {},
     "output_type": "execute_result"
    }
   ],
   "source": [
    "machines=pd.get_dummies(machines)\n",
    "machines.head(2)"
   ]
  },
  {
   "cell_type": "code",
   "execution_count": 33,
   "metadata": {},
   "outputs": [
    {
     "data": {
      "text/html": [
       "<div>\n",
       "<style scoped>\n",
       "    .dataframe tbody tr th:only-of-type {\n",
       "        vertical-align: middle;\n",
       "    }\n",
       "\n",
       "    .dataframe tbody tr th {\n",
       "        vertical-align: top;\n",
       "    }\n",
       "\n",
       "    .dataframe thead th {\n",
       "        text-align: right;\n",
       "    }\n",
       "</style>\n",
       "<table border=\"1\" class=\"dataframe\">\n",
       "  <thead>\n",
       "    <tr style=\"text-align: right;\">\n",
       "      <th></th>\n",
       "      <th>datetime</th>\n",
       "      <th>machineID</th>\n",
       "      <th>failure</th>\n",
       "    </tr>\n",
       "  </thead>\n",
       "  <tbody>\n",
       "    <tr>\n",
       "      <th>0</th>\n",
       "      <td>2015-01-05 06:00:00</td>\n",
       "      <td>1</td>\n",
       "      <td>comp4</td>\n",
       "    </tr>\n",
       "    <tr>\n",
       "      <th>1</th>\n",
       "      <td>2015-03-06 06:00:00</td>\n",
       "      <td>1</td>\n",
       "      <td>comp1</td>\n",
       "    </tr>\n",
       "  </tbody>\n",
       "</table>\n",
       "</div>"
      ],
      "text/plain": [
       "             datetime  machineID failure\n",
       "0 2015-01-05 06:00:00          1   comp4\n",
       "1 2015-03-06 06:00:00          1   comp1"
      ]
     },
     "execution_count": 33,
     "metadata": {},
     "output_type": "execute_result"
    }
   ],
   "source": [
    "failures.head(2)"
   ]
  },
  {
   "cell_type": "code",
   "execution_count": 34,
   "metadata": {},
   "outputs": [
    {
     "data": {
      "text/html": [
       "<div>\n",
       "<style scoped>\n",
       "    .dataframe tbody tr th:only-of-type {\n",
       "        vertical-align: middle;\n",
       "    }\n",
       "\n",
       "    .dataframe tbody tr th {\n",
       "        vertical-align: top;\n",
       "    }\n",
       "\n",
       "    .dataframe thead th {\n",
       "        text-align: right;\n",
       "    }\n",
       "</style>\n",
       "<table border=\"1\" class=\"dataframe\">\n",
       "  <thead>\n",
       "    <tr style=\"text-align: right;\">\n",
       "      <th></th>\n",
       "      <th>datetime</th>\n",
       "      <th>machineID</th>\n",
       "      <th>errorID_error1</th>\n",
       "      <th>errorID_error2</th>\n",
       "      <th>errorID_error3</th>\n",
       "      <th>errorID_error4</th>\n",
       "      <th>errorID_error5</th>\n",
       "    </tr>\n",
       "  </thead>\n",
       "  <tbody>\n",
       "    <tr>\n",
       "      <th>0</th>\n",
       "      <td>2015-01-01 06:00:00</td>\n",
       "      <td>1</td>\n",
       "      <td>0.0</td>\n",
       "      <td>0.0</td>\n",
       "      <td>0.0</td>\n",
       "      <td>0.0</td>\n",
       "      <td>0.0</td>\n",
       "    </tr>\n",
       "    <tr>\n",
       "      <th>1</th>\n",
       "      <td>2015-01-01 07:00:00</td>\n",
       "      <td>1</td>\n",
       "      <td>0.0</td>\n",
       "      <td>0.0</td>\n",
       "      <td>0.0</td>\n",
       "      <td>0.0</td>\n",
       "      <td>0.0</td>\n",
       "    </tr>\n",
       "  </tbody>\n",
       "</table>\n",
       "</div>"
      ],
      "text/plain": [
       "             datetime  machineID  errorID_error1  errorID_error2  \\\n",
       "0 2015-01-01 06:00:00          1             0.0             0.0   \n",
       "1 2015-01-01 07:00:00          1             0.0             0.0   \n",
       "\n",
       "   errorID_error3  errorID_error4  errorID_error5  \n",
       "0             0.0             0.0             0.0  \n",
       "1             0.0             0.0             0.0  "
      ]
     },
     "execution_count": 34,
     "metadata": {},
     "output_type": "execute_result"
    }
   ],
   "source": [
    "tel_error_merge = telemetry[['datetime', 'machineID']].merge(errors, on=['machineID', 'datetime'], \n",
    "                                                         how='outer').fillna(0)\n",
    "\n",
    "tel_error_merge.head(2)"
   ]
  },
  {
   "cell_type": "code",
   "execution_count": 35,
   "metadata": {},
   "outputs": [
    {
     "data": {
      "text/plain": [
       "(876100, 6)"
      ]
     },
     "execution_count": 35,
     "metadata": {},
     "output_type": "execute_result"
    }
   ],
   "source": [
    "telemetry.shape"
   ]
  },
  {
   "cell_type": "code",
   "execution_count": 36,
   "metadata": {},
   "outputs": [
    {
     "data": {
      "text/plain": [
       "(876403, 7)"
      ]
     },
     "execution_count": 36,
     "metadata": {},
     "output_type": "execute_result"
    }
   ],
   "source": [
    "tel_error_merge.shape"
   ]
  },
  {
   "cell_type": "code",
   "execution_count": 37,
   "metadata": {},
   "outputs": [
    {
     "data": {
      "text/html": [
       "<div>\n",
       "<style scoped>\n",
       "    .dataframe tbody tr th:only-of-type {\n",
       "        vertical-align: middle;\n",
       "    }\n",
       "\n",
       "    .dataframe tbody tr th {\n",
       "        vertical-align: top;\n",
       "    }\n",
       "\n",
       "    .dataframe thead th {\n",
       "        text-align: right;\n",
       "    }\n",
       "</style>\n",
       "<table border=\"1\" class=\"dataframe\">\n",
       "  <thead>\n",
       "    <tr style=\"text-align: right;\">\n",
       "      <th></th>\n",
       "      <th>datetime</th>\n",
       "      <th>machineID</th>\n",
       "      <th>comp_comp1</th>\n",
       "      <th>comp_comp2</th>\n",
       "      <th>comp_comp3</th>\n",
       "      <th>comp_comp4</th>\n",
       "    </tr>\n",
       "  </thead>\n",
       "  <tbody>\n",
       "    <tr>\n",
       "      <th>0</th>\n",
       "      <td>2015-01-01 06:00:00</td>\n",
       "      <td>1</td>\n",
       "      <td>0.0</td>\n",
       "      <td>0.0</td>\n",
       "      <td>0.0</td>\n",
       "      <td>0.0</td>\n",
       "    </tr>\n",
       "    <tr>\n",
       "      <th>1</th>\n",
       "      <td>2015-01-01 07:00:00</td>\n",
       "      <td>1</td>\n",
       "      <td>0.0</td>\n",
       "      <td>0.0</td>\n",
       "      <td>0.0</td>\n",
       "      <td>0.0</td>\n",
       "    </tr>\n",
       "  </tbody>\n",
       "</table>\n",
       "</div>"
      ],
      "text/plain": [
       "             datetime  machineID  comp_comp1  comp_comp2  comp_comp3  \\\n",
       "0 2015-01-01 06:00:00          1         0.0         0.0         0.0   \n",
       "1 2015-01-01 07:00:00          1         0.0         0.0         0.0   \n",
       "\n",
       "   comp_comp4  \n",
       "0         0.0  \n",
       "1         0.0  "
      ]
     },
     "execution_count": 37,
     "metadata": {},
     "output_type": "execute_result"
    }
   ],
   "source": [
    "tel_maint_merge = telemetry[['datetime', 'machineID']].merge(maint, on=['machineID', 'datetime'], \n",
    "                                                         how='outer').fillna(0)\n",
    "\n",
    "tel_maint_merge.head(2)"
   ]
  },
  {
   "cell_type": "code",
   "execution_count": 38,
   "metadata": {},
   "outputs": [
    {
     "data": {
      "text/plain": [
       "(877223, 6)"
      ]
     },
     "execution_count": 38,
     "metadata": {},
     "output_type": "execute_result"
    }
   ],
   "source": [
    "tel_maint_merge.shape"
   ]
  },
  {
   "cell_type": "code",
   "execution_count": 39,
   "metadata": {},
   "outputs": [
    {
     "data": {
      "text/html": [
       "<div>\n",
       "<style scoped>\n",
       "    .dataframe tbody tr th:only-of-type {\n",
       "        vertical-align: middle;\n",
       "    }\n",
       "\n",
       "    .dataframe tbody tr th {\n",
       "        vertical-align: top;\n",
       "    }\n",
       "\n",
       "    .dataframe thead th {\n",
       "        text-align: right;\n",
       "    }\n",
       "</style>\n",
       "<table border=\"1\" class=\"dataframe\">\n",
       "  <thead>\n",
       "    <tr style=\"text-align: right;\">\n",
       "      <th></th>\n",
       "      <th>datetime</th>\n",
       "      <th>machineID</th>\n",
       "      <th>volt</th>\n",
       "      <th>rotate</th>\n",
       "      <th>pressure</th>\n",
       "      <th>vibration</th>\n",
       "    </tr>\n",
       "  </thead>\n",
       "  <tbody>\n",
       "    <tr>\n",
       "      <th>0</th>\n",
       "      <td>2015-01-01 06:00:00</td>\n",
       "      <td>1</td>\n",
       "      <td>176.217853</td>\n",
       "      <td>418.504078</td>\n",
       "      <td>113.077935</td>\n",
       "      <td>45.087686</td>\n",
       "    </tr>\n",
       "    <tr>\n",
       "      <th>1</th>\n",
       "      <td>2015-01-01 07:00:00</td>\n",
       "      <td>1</td>\n",
       "      <td>162.879223</td>\n",
       "      <td>402.747490</td>\n",
       "      <td>95.460525</td>\n",
       "      <td>43.413973</td>\n",
       "    </tr>\n",
       "  </tbody>\n",
       "</table>\n",
       "</div>"
      ],
      "text/plain": [
       "             datetime  machineID        volt      rotate    pressure  \\\n",
       "0 2015-01-01 06:00:00          1  176.217853  418.504078  113.077935   \n",
       "1 2015-01-01 07:00:00          1  162.879223  402.747490   95.460525   \n",
       "\n",
       "   vibration  \n",
       "0  45.087686  \n",
       "1  43.413973  "
      ]
     },
     "execution_count": 39,
     "metadata": {},
     "output_type": "execute_result"
    }
   ],
   "source": [
    "telemetry.head(2)"
   ]
  },
  {
   "cell_type": "code",
   "execution_count": 40,
   "metadata": {},
   "outputs": [],
   "source": [
    "tel_maint_mac_merge = tel_maint_merge.merge(machines, on=['machineID'], how='left').fillna(0)"
   ]
  },
  {
   "cell_type": "code",
   "execution_count": 41,
   "metadata": {},
   "outputs": [
    {
     "data": {
      "text/html": [
       "<div>\n",
       "<style scoped>\n",
       "    .dataframe tbody tr th:only-of-type {\n",
       "        vertical-align: middle;\n",
       "    }\n",
       "\n",
       "    .dataframe tbody tr th {\n",
       "        vertical-align: top;\n",
       "    }\n",
       "\n",
       "    .dataframe thead th {\n",
       "        text-align: right;\n",
       "    }\n",
       "</style>\n",
       "<table border=\"1\" class=\"dataframe\">\n",
       "  <thead>\n",
       "    <tr style=\"text-align: right;\">\n",
       "      <th></th>\n",
       "      <th>datetime</th>\n",
       "      <th>machineID</th>\n",
       "      <th>comp_comp1</th>\n",
       "      <th>comp_comp2</th>\n",
       "      <th>comp_comp3</th>\n",
       "      <th>comp_comp4</th>\n",
       "      <th>age</th>\n",
       "      <th>model_model1</th>\n",
       "      <th>model_model2</th>\n",
       "      <th>model_model3</th>\n",
       "      <th>model_model4</th>\n",
       "    </tr>\n",
       "  </thead>\n",
       "  <tbody>\n",
       "    <tr>\n",
       "      <th>0</th>\n",
       "      <td>2015-01-01 06:00:00</td>\n",
       "      <td>1</td>\n",
       "      <td>0.0</td>\n",
       "      <td>0.0</td>\n",
       "      <td>0.0</td>\n",
       "      <td>0.0</td>\n",
       "      <td>18</td>\n",
       "      <td>0</td>\n",
       "      <td>0</td>\n",
       "      <td>1</td>\n",
       "      <td>0</td>\n",
       "    </tr>\n",
       "    <tr>\n",
       "      <th>1</th>\n",
       "      <td>2015-01-01 07:00:00</td>\n",
       "      <td>1</td>\n",
       "      <td>0.0</td>\n",
       "      <td>0.0</td>\n",
       "      <td>0.0</td>\n",
       "      <td>0.0</td>\n",
       "      <td>18</td>\n",
       "      <td>0</td>\n",
       "      <td>0</td>\n",
       "      <td>1</td>\n",
       "      <td>0</td>\n",
       "    </tr>\n",
       "  </tbody>\n",
       "</table>\n",
       "</div>"
      ],
      "text/plain": [
       "             datetime  machineID  comp_comp1  comp_comp2  comp_comp3  \\\n",
       "0 2015-01-01 06:00:00          1         0.0         0.0         0.0   \n",
       "1 2015-01-01 07:00:00          1         0.0         0.0         0.0   \n",
       "\n",
       "   comp_comp4  age  model_model1  model_model2  model_model3  model_model4  \n",
       "0         0.0   18             0             0             1             0  \n",
       "1         0.0   18             0             0             1             0  "
      ]
     },
     "execution_count": 41,
     "metadata": {},
     "output_type": "execute_result"
    }
   ],
   "source": [
    "tel_maint_mac_merge.head(2)"
   ]
  },
  {
   "cell_type": "code",
   "execution_count": 42,
   "metadata": {},
   "outputs": [
    {
     "data": {
      "text/plain": [
       "(877223, 11)"
      ]
     },
     "execution_count": 42,
     "metadata": {},
     "output_type": "execute_result"
    }
   ],
   "source": [
    "tel_maint_mac_merge.shape"
   ]
  },
  {
   "cell_type": "code",
   "execution_count": 43,
   "metadata": {},
   "outputs": [
    {
     "data": {
      "text/html": [
       "<div>\n",
       "<style scoped>\n",
       "    .dataframe tbody tr th:only-of-type {\n",
       "        vertical-align: middle;\n",
       "    }\n",
       "\n",
       "    .dataframe tbody tr th {\n",
       "        vertical-align: top;\n",
       "    }\n",
       "\n",
       "    .dataframe thead th {\n",
       "        text-align: right;\n",
       "    }\n",
       "</style>\n",
       "<table border=\"1\" class=\"dataframe\">\n",
       "  <thead>\n",
       "    <tr style=\"text-align: right;\">\n",
       "      <th></th>\n",
       "      <th>datetime</th>\n",
       "      <th>machineID</th>\n",
       "      <th>failure</th>\n",
       "    </tr>\n",
       "  </thead>\n",
       "  <tbody>\n",
       "    <tr>\n",
       "      <th>0</th>\n",
       "      <td>2015-01-01 06:00:00</td>\n",
       "      <td>1</td>\n",
       "      <td>NaN</td>\n",
       "    </tr>\n",
       "    <tr>\n",
       "      <th>1</th>\n",
       "      <td>2015-01-01 07:00:00</td>\n",
       "      <td>1</td>\n",
       "      <td>NaN</td>\n",
       "    </tr>\n",
       "  </tbody>\n",
       "</table>\n",
       "</div>"
      ],
      "text/plain": [
       "             datetime  machineID failure\n",
       "0 2015-01-01 06:00:00          1     NaN\n",
       "1 2015-01-01 07:00:00          1     NaN"
      ]
     },
     "execution_count": 43,
     "metadata": {},
     "output_type": "execute_result"
    }
   ],
   "source": [
    "tel_fail_merge = telemetry[['datetime', 'machineID']].merge(failures, on=['machineID', 'datetime'], \n",
    "                                                         how='left')\n",
    "\n",
    "tel_fail_merge.head(2)"
   ]
  },
  {
   "cell_type": "code",
   "execution_count": 44,
   "metadata": {},
   "outputs": [
    {
     "data": {
      "text/plain": [
       "(876142, 3)"
      ]
     },
     "execution_count": 44,
     "metadata": {},
     "output_type": "execute_result"
    }
   ],
   "source": [
    "tel_fail_merge.shape"
   ]
  },
  {
   "cell_type": "code",
   "execution_count": 45,
   "metadata": {},
   "outputs": [],
   "source": [
    "final_df = telemetry.merge(tel_error_merge, on=['datetime', 'machineID'], how='left')\n",
    "final_df = final_df.merge(tel_maint_mac_merge, on=['datetime', 'machineID'], how='left')\n",
    "final_df = final_df.merge(tel_fail_merge, on=['datetime', 'machineID'], how='left')"
   ]
  },
  {
   "cell_type": "code",
   "execution_count": 46,
   "metadata": {},
   "outputs": [
    {
     "data": {
      "text/html": [
       "<div>\n",
       "<style scoped>\n",
       "    .dataframe tbody tr th:only-of-type {\n",
       "        vertical-align: middle;\n",
       "    }\n",
       "\n",
       "    .dataframe tbody tr th {\n",
       "        vertical-align: top;\n",
       "    }\n",
       "\n",
       "    .dataframe thead th {\n",
       "        text-align: right;\n",
       "    }\n",
       "</style>\n",
       "<table border=\"1\" class=\"dataframe\">\n",
       "  <thead>\n",
       "    <tr style=\"text-align: right;\">\n",
       "      <th></th>\n",
       "      <th>datetime</th>\n",
       "      <th>machineID</th>\n",
       "      <th>volt</th>\n",
       "      <th>rotate</th>\n",
       "      <th>pressure</th>\n",
       "      <th>vibration</th>\n",
       "      <th>errorID_error1</th>\n",
       "      <th>errorID_error2</th>\n",
       "      <th>errorID_error3</th>\n",
       "      <th>errorID_error4</th>\n",
       "      <th>...</th>\n",
       "      <th>comp_comp1</th>\n",
       "      <th>comp_comp2</th>\n",
       "      <th>comp_comp3</th>\n",
       "      <th>comp_comp4</th>\n",
       "      <th>age</th>\n",
       "      <th>model_model1</th>\n",
       "      <th>model_model2</th>\n",
       "      <th>model_model3</th>\n",
       "      <th>model_model4</th>\n",
       "      <th>failure</th>\n",
       "    </tr>\n",
       "  </thead>\n",
       "  <tbody>\n",
       "    <tr>\n",
       "      <th>0</th>\n",
       "      <td>2015-01-01 06:00:00</td>\n",
       "      <td>1</td>\n",
       "      <td>176.217853</td>\n",
       "      <td>418.504078</td>\n",
       "      <td>113.077935</td>\n",
       "      <td>45.087686</td>\n",
       "      <td>0.0</td>\n",
       "      <td>0.0</td>\n",
       "      <td>0.0</td>\n",
       "      <td>0.0</td>\n",
       "      <td>...</td>\n",
       "      <td>0.0</td>\n",
       "      <td>0.0</td>\n",
       "      <td>0.0</td>\n",
       "      <td>0.0</td>\n",
       "      <td>18</td>\n",
       "      <td>0</td>\n",
       "      <td>0</td>\n",
       "      <td>1</td>\n",
       "      <td>0</td>\n",
       "      <td>NaN</td>\n",
       "    </tr>\n",
       "    <tr>\n",
       "      <th>1</th>\n",
       "      <td>2015-01-01 07:00:00</td>\n",
       "      <td>1</td>\n",
       "      <td>162.879223</td>\n",
       "      <td>402.747490</td>\n",
       "      <td>95.460525</td>\n",
       "      <td>43.413973</td>\n",
       "      <td>0.0</td>\n",
       "      <td>0.0</td>\n",
       "      <td>0.0</td>\n",
       "      <td>0.0</td>\n",
       "      <td>...</td>\n",
       "      <td>0.0</td>\n",
       "      <td>0.0</td>\n",
       "      <td>0.0</td>\n",
       "      <td>0.0</td>\n",
       "      <td>18</td>\n",
       "      <td>0</td>\n",
       "      <td>0</td>\n",
       "      <td>1</td>\n",
       "      <td>0</td>\n",
       "      <td>NaN</td>\n",
       "    </tr>\n",
       "  </tbody>\n",
       "</table>\n",
       "<p>2 rows × 21 columns</p>\n",
       "</div>"
      ],
      "text/plain": [
       "             datetime  machineID        volt      rotate    pressure  \\\n",
       "0 2015-01-01 06:00:00          1  176.217853  418.504078  113.077935   \n",
       "1 2015-01-01 07:00:00          1  162.879223  402.747490   95.460525   \n",
       "\n",
       "   vibration  errorID_error1  errorID_error2  errorID_error3  errorID_error4  \\\n",
       "0  45.087686             0.0             0.0             0.0             0.0   \n",
       "1  43.413973             0.0             0.0             0.0             0.0   \n",
       "\n",
       "   ...  comp_comp1  comp_comp2  comp_comp3  comp_comp4  age  model_model1  \\\n",
       "0  ...         0.0         0.0         0.0         0.0   18             0   \n",
       "1  ...         0.0         0.0         0.0         0.0   18             0   \n",
       "\n",
       "   model_model2  model_model3  model_model4  failure  \n",
       "0             0             1             0      NaN  \n",
       "1             0             1             0      NaN  \n",
       "\n",
       "[2 rows x 21 columns]"
      ]
     },
     "execution_count": 46,
     "metadata": {},
     "output_type": "execute_result"
    }
   ],
   "source": [
    "final_df.head(2)"
   ]
  },
  {
   "cell_type": "code",
   "execution_count": 47,
   "metadata": {},
   "outputs": [
    {
     "data": {
      "text/plain": [
       "(877209, 21)"
      ]
     },
     "execution_count": 47,
     "metadata": {},
     "output_type": "execute_result"
    }
   ],
   "source": [
    "final_df.shape"
   ]
  },
  {
   "cell_type": "code",
   "execution_count": 48,
   "metadata": {},
   "outputs": [
    {
     "data": {
      "text/html": [
       "<div>\n",
       "<style scoped>\n",
       "    .dataframe tbody tr th:only-of-type {\n",
       "        vertical-align: middle;\n",
       "    }\n",
       "\n",
       "    .dataframe tbody tr th {\n",
       "        vertical-align: top;\n",
       "    }\n",
       "\n",
       "    .dataframe thead th {\n",
       "        text-align: right;\n",
       "    }\n",
       "</style>\n",
       "<table border=\"1\" class=\"dataframe\">\n",
       "  <thead>\n",
       "    <tr style=\"text-align: right;\">\n",
       "      <th></th>\n",
       "      <th>datetime</th>\n",
       "      <th>machineID</th>\n",
       "      <th>volt</th>\n",
       "      <th>rotate</th>\n",
       "      <th>pressure</th>\n",
       "      <th>vibration</th>\n",
       "      <th>errorID_error1</th>\n",
       "      <th>errorID_error2</th>\n",
       "      <th>errorID_error3</th>\n",
       "      <th>errorID_error4</th>\n",
       "      <th>...</th>\n",
       "      <th>comp_comp1</th>\n",
       "      <th>comp_comp2</th>\n",
       "      <th>comp_comp3</th>\n",
       "      <th>comp_comp4</th>\n",
       "      <th>age</th>\n",
       "      <th>model_model1</th>\n",
       "      <th>model_model2</th>\n",
       "      <th>model_model3</th>\n",
       "      <th>model_model4</th>\n",
       "      <th>failure</th>\n",
       "    </tr>\n",
       "  </thead>\n",
       "  <tbody>\n",
       "    <tr>\n",
       "      <th>877207</th>\n",
       "      <td>2016-01-01 05:00:00</td>\n",
       "      <td>100</td>\n",
       "      <td>165.475310</td>\n",
       "      <td>413.77167</td>\n",
       "      <td>104.081073</td>\n",
       "      <td>44.835259</td>\n",
       "      <td>0.0</td>\n",
       "      <td>0.0</td>\n",
       "      <td>0.0</td>\n",
       "      <td>0.0</td>\n",
       "      <td>...</td>\n",
       "      <td>0.0</td>\n",
       "      <td>0.0</td>\n",
       "      <td>0.0</td>\n",
       "      <td>0.0</td>\n",
       "      <td>5</td>\n",
       "      <td>0</td>\n",
       "      <td>0</td>\n",
       "      <td>0</td>\n",
       "      <td>1</td>\n",
       "      <td>NaN</td>\n",
       "    </tr>\n",
       "    <tr>\n",
       "      <th>877208</th>\n",
       "      <td>2016-01-01 06:00:00</td>\n",
       "      <td>100</td>\n",
       "      <td>171.336037</td>\n",
       "      <td>496.09687</td>\n",
       "      <td>79.095538</td>\n",
       "      <td>37.845245</td>\n",
       "      <td>0.0</td>\n",
       "      <td>0.0</td>\n",
       "      <td>0.0</td>\n",
       "      <td>0.0</td>\n",
       "      <td>...</td>\n",
       "      <td>0.0</td>\n",
       "      <td>0.0</td>\n",
       "      <td>0.0</td>\n",
       "      <td>0.0</td>\n",
       "      <td>5</td>\n",
       "      <td>0</td>\n",
       "      <td>0</td>\n",
       "      <td>0</td>\n",
       "      <td>1</td>\n",
       "      <td>NaN</td>\n",
       "    </tr>\n",
       "  </tbody>\n",
       "</table>\n",
       "<p>2 rows × 21 columns</p>\n",
       "</div>"
      ],
      "text/plain": [
       "                  datetime  machineID        volt     rotate    pressure  \\\n",
       "877207 2016-01-01 05:00:00        100  165.475310  413.77167  104.081073   \n",
       "877208 2016-01-01 06:00:00        100  171.336037  496.09687   79.095538   \n",
       "\n",
       "        vibration  errorID_error1  errorID_error2  errorID_error3  \\\n",
       "877207  44.835259             0.0             0.0             0.0   \n",
       "877208  37.845245             0.0             0.0             0.0   \n",
       "\n",
       "        errorID_error4  ...  comp_comp1  comp_comp2  comp_comp3  comp_comp4  \\\n",
       "877207             0.0  ...         0.0         0.0         0.0         0.0   \n",
       "877208             0.0  ...         0.0         0.0         0.0         0.0   \n",
       "\n",
       "        age  model_model1  model_model2  model_model3  model_model4  failure  \n",
       "877207    5             0             0             0             1      NaN  \n",
       "877208    5             0             0             0             1      NaN  \n",
       "\n",
       "[2 rows x 21 columns]"
      ]
     },
     "execution_count": 48,
     "metadata": {},
     "output_type": "execute_result"
    }
   ],
   "source": [
    "final_df.tail(2)"
   ]
  },
  {
   "cell_type": "code",
   "execution_count": 49,
   "metadata": {},
   "outputs": [],
   "source": [
    "final_df['failure'] = final_df['failure'].astype('str')\n",
    "final_df.replace({'nan': \"none\"}, inplace= True)"
   ]
  },
  {
   "cell_type": "code",
   "execution_count": 50,
   "metadata": {},
   "outputs": [
    {
     "data": {
      "text/html": [
       "<div>\n",
       "<style scoped>\n",
       "    .dataframe tbody tr th:only-of-type {\n",
       "        vertical-align: middle;\n",
       "    }\n",
       "\n",
       "    .dataframe tbody tr th {\n",
       "        vertical-align: top;\n",
       "    }\n",
       "\n",
       "    .dataframe thead th {\n",
       "        text-align: right;\n",
       "    }\n",
       "</style>\n",
       "<table border=\"1\" class=\"dataframe\">\n",
       "  <thead>\n",
       "    <tr style=\"text-align: right;\">\n",
       "      <th></th>\n",
       "      <th>datetime</th>\n",
       "      <th>machineID</th>\n",
       "      <th>volt</th>\n",
       "      <th>rotate</th>\n",
       "      <th>pressure</th>\n",
       "      <th>vibration</th>\n",
       "      <th>errorID_error1</th>\n",
       "      <th>errorID_error2</th>\n",
       "      <th>errorID_error3</th>\n",
       "      <th>errorID_error4</th>\n",
       "      <th>...</th>\n",
       "      <th>comp_comp1</th>\n",
       "      <th>comp_comp2</th>\n",
       "      <th>comp_comp3</th>\n",
       "      <th>comp_comp4</th>\n",
       "      <th>age</th>\n",
       "      <th>model_model1</th>\n",
       "      <th>model_model2</th>\n",
       "      <th>model_model3</th>\n",
       "      <th>model_model4</th>\n",
       "      <th>failure</th>\n",
       "    </tr>\n",
       "  </thead>\n",
       "  <tbody>\n",
       "    <tr>\n",
       "      <th>0</th>\n",
       "      <td>2015-01-01 06:00:00</td>\n",
       "      <td>1</td>\n",
       "      <td>176.217853</td>\n",
       "      <td>418.504078</td>\n",
       "      <td>113.077935</td>\n",
       "      <td>45.087686</td>\n",
       "      <td>0.0</td>\n",
       "      <td>0.0</td>\n",
       "      <td>0.0</td>\n",
       "      <td>0.0</td>\n",
       "      <td>...</td>\n",
       "      <td>0.0</td>\n",
       "      <td>0.0</td>\n",
       "      <td>0.0</td>\n",
       "      <td>0.0</td>\n",
       "      <td>18</td>\n",
       "      <td>0</td>\n",
       "      <td>0</td>\n",
       "      <td>1</td>\n",
       "      <td>0</td>\n",
       "      <td>none</td>\n",
       "    </tr>\n",
       "    <tr>\n",
       "      <th>1</th>\n",
       "      <td>2015-01-01 07:00:00</td>\n",
       "      <td>1</td>\n",
       "      <td>162.879223</td>\n",
       "      <td>402.747490</td>\n",
       "      <td>95.460525</td>\n",
       "      <td>43.413973</td>\n",
       "      <td>0.0</td>\n",
       "      <td>0.0</td>\n",
       "      <td>0.0</td>\n",
       "      <td>0.0</td>\n",
       "      <td>...</td>\n",
       "      <td>0.0</td>\n",
       "      <td>0.0</td>\n",
       "      <td>0.0</td>\n",
       "      <td>0.0</td>\n",
       "      <td>18</td>\n",
       "      <td>0</td>\n",
       "      <td>0</td>\n",
       "      <td>1</td>\n",
       "      <td>0</td>\n",
       "      <td>none</td>\n",
       "    </tr>\n",
       "  </tbody>\n",
       "</table>\n",
       "<p>2 rows × 21 columns</p>\n",
       "</div>"
      ],
      "text/plain": [
       "             datetime  machineID        volt      rotate    pressure  \\\n",
       "0 2015-01-01 06:00:00          1  176.217853  418.504078  113.077935   \n",
       "1 2015-01-01 07:00:00          1  162.879223  402.747490   95.460525   \n",
       "\n",
       "   vibration  errorID_error1  errorID_error2  errorID_error3  errorID_error4  \\\n",
       "0  45.087686             0.0             0.0             0.0             0.0   \n",
       "1  43.413973             0.0             0.0             0.0             0.0   \n",
       "\n",
       "   ...  comp_comp1  comp_comp2  comp_comp3  comp_comp4  age  model_model1  \\\n",
       "0  ...         0.0         0.0         0.0         0.0   18             0   \n",
       "1  ...         0.0         0.0         0.0         0.0   18             0   \n",
       "\n",
       "   model_model2  model_model3  model_model4  failure  \n",
       "0             0             1             0     none  \n",
       "1             0             1             0     none  \n",
       "\n",
       "[2 rows x 21 columns]"
      ]
     },
     "execution_count": 50,
     "metadata": {},
     "output_type": "execute_result"
    }
   ],
   "source": [
    "final_df.head(2)"
   ]
  },
  {
   "cell_type": "code",
   "execution_count": 51,
   "metadata": {},
   "outputs": [],
   "source": [
    "# #Let's save 'final_df' in csv format\n",
    "\n",
    "# final_df.to_csv('final_df_first_cut.csv')"
   ]
  },
  {
   "cell_type": "code",
   "execution_count": 52,
   "metadata": {},
   "outputs": [],
   "source": [
    "X = final_df.drop(['datetime', 'machineID', 'failure'], 1)"
   ]
  },
  {
   "cell_type": "code",
   "execution_count": 53,
   "metadata": {},
   "outputs": [
    {
     "data": {
      "text/html": [
       "<div>\n",
       "<style scoped>\n",
       "    .dataframe tbody tr th:only-of-type {\n",
       "        vertical-align: middle;\n",
       "    }\n",
       "\n",
       "    .dataframe tbody tr th {\n",
       "        vertical-align: top;\n",
       "    }\n",
       "\n",
       "    .dataframe thead th {\n",
       "        text-align: right;\n",
       "    }\n",
       "</style>\n",
       "<table border=\"1\" class=\"dataframe\">\n",
       "  <thead>\n",
       "    <tr style=\"text-align: right;\">\n",
       "      <th></th>\n",
       "      <th>volt</th>\n",
       "      <th>rotate</th>\n",
       "      <th>pressure</th>\n",
       "      <th>vibration</th>\n",
       "      <th>errorID_error1</th>\n",
       "      <th>errorID_error2</th>\n",
       "      <th>errorID_error3</th>\n",
       "      <th>errorID_error4</th>\n",
       "      <th>errorID_error5</th>\n",
       "      <th>comp_comp1</th>\n",
       "      <th>comp_comp2</th>\n",
       "      <th>comp_comp3</th>\n",
       "      <th>comp_comp4</th>\n",
       "      <th>age</th>\n",
       "      <th>model_model1</th>\n",
       "      <th>model_model2</th>\n",
       "      <th>model_model3</th>\n",
       "      <th>model_model4</th>\n",
       "    </tr>\n",
       "  </thead>\n",
       "  <tbody>\n",
       "    <tr>\n",
       "      <th>0</th>\n",
       "      <td>176.217853</td>\n",
       "      <td>418.504078</td>\n",
       "      <td>113.077935</td>\n",
       "      <td>45.087686</td>\n",
       "      <td>0.0</td>\n",
       "      <td>0.0</td>\n",
       "      <td>0.0</td>\n",
       "      <td>0.0</td>\n",
       "      <td>0.0</td>\n",
       "      <td>0.0</td>\n",
       "      <td>0.0</td>\n",
       "      <td>0.0</td>\n",
       "      <td>0.0</td>\n",
       "      <td>18</td>\n",
       "      <td>0</td>\n",
       "      <td>0</td>\n",
       "      <td>1</td>\n",
       "      <td>0</td>\n",
       "    </tr>\n",
       "    <tr>\n",
       "      <th>1</th>\n",
       "      <td>162.879223</td>\n",
       "      <td>402.747490</td>\n",
       "      <td>95.460525</td>\n",
       "      <td>43.413973</td>\n",
       "      <td>0.0</td>\n",
       "      <td>0.0</td>\n",
       "      <td>0.0</td>\n",
       "      <td>0.0</td>\n",
       "      <td>0.0</td>\n",
       "      <td>0.0</td>\n",
       "      <td>0.0</td>\n",
       "      <td>0.0</td>\n",
       "      <td>0.0</td>\n",
       "      <td>18</td>\n",
       "      <td>0</td>\n",
       "      <td>0</td>\n",
       "      <td>1</td>\n",
       "      <td>0</td>\n",
       "    </tr>\n",
       "  </tbody>\n",
       "</table>\n",
       "</div>"
      ],
      "text/plain": [
       "         volt      rotate    pressure  vibration  errorID_error1  \\\n",
       "0  176.217853  418.504078  113.077935  45.087686             0.0   \n",
       "1  162.879223  402.747490   95.460525  43.413973             0.0   \n",
       "\n",
       "   errorID_error2  errorID_error3  errorID_error4  errorID_error5  comp_comp1  \\\n",
       "0             0.0             0.0             0.0             0.0         0.0   \n",
       "1             0.0             0.0             0.0             0.0         0.0   \n",
       "\n",
       "   comp_comp2  comp_comp3  comp_comp4  age  model_model1  model_model2  \\\n",
       "0         0.0         0.0         0.0   18             0             0   \n",
       "1         0.0         0.0         0.0   18             0             0   \n",
       "\n",
       "   model_model3  model_model4  \n",
       "0             1             0  \n",
       "1             1             0  "
      ]
     },
     "execution_count": 53,
     "metadata": {},
     "output_type": "execute_result"
    }
   ],
   "source": [
    "X.head(2)"
   ]
  },
  {
   "cell_type": "code",
   "execution_count": 54,
   "metadata": {},
   "outputs": [
    {
     "data": {
      "text/plain": [
       "array([162.8792229 , 402.74748957,  95.46052538,  43.41397268,\n",
       "         0.        ,   0.        ,   0.        ,   0.        ,\n",
       "         0.        ,   0.        ,   0.        ,   0.        ,\n",
       "         0.        ,  18.        ,   0.        ,   0.        ,\n",
       "         1.        ,   0.        ])"
      ]
     },
     "execution_count": 54,
     "metadata": {},
     "output_type": "execute_result"
    }
   ],
   "source": [
    "X_final_train = X.values\n",
    "X_final_train[1]"
   ]
  },
  {
   "cell_type": "code",
   "execution_count": 55,
   "metadata": {},
   "outputs": [
    {
     "data": {
      "text/plain": [
       "0    none\n",
       "1    none\n",
       "Name: failure, dtype: object"
      ]
     },
     "execution_count": 55,
     "metadata": {},
     "output_type": "execute_result"
    }
   ],
   "source": [
    "y_final=final_df['failure']\n",
    "y_final.head(2)"
   ]
  },
  {
   "cell_type": "code",
   "execution_count": 56,
   "metadata": {},
   "outputs": [
    {
     "data": {
      "text/plain": [
       "'none'"
      ]
     },
     "execution_count": 56,
     "metadata": {},
     "output_type": "execute_result"
    }
   ],
   "source": [
    "y_final_train = y_final.values\n",
    "y_final_train[1]"
   ]
  },
  {
   "cell_type": "code",
   "execution_count": 57,
   "metadata": {},
   "outputs": [],
   "source": [
    "import numpy as np\n",
    "import seaborn as sns\n",
    "from sklearn.model_selection import train_test_split"
   ]
  },
  {
   "cell_type": "code",
   "execution_count": 58,
   "metadata": {},
   "outputs": [],
   "source": [
    "X_train, X_test, y_train, y_test = train_test_split(X_final_train, y_final_train,test_size=0.20, shuffle=False)\n",
    "X_train, X_cv, y_train, y_cv = train_test_split(X_train, y_train, test_size=0.20, shuffle=False)"
   ]
  },
  {
   "cell_type": "code",
   "execution_count": 59,
   "metadata": {},
   "outputs": [
    {
     "name": "stdout",
     "output_type": "stream",
     "text": [
      "X_train Observations: 561413\n",
      "y_train Observations: 561413\n",
      "X_cv Observations: 140354\n",
      "y_cv Observations: 140354\n",
      "X_test Observations: 175442\n",
      "y_test Observations: 175442\n"
     ]
    }
   ],
   "source": [
    "print('X_train Observations: %d' % (len(X_train)))\n",
    "print('y_train Observations: %d' % (len(y_train)))\n",
    "\n",
    "print('X_cv Observations: %d' % (len(X_cv)))\n",
    "print('y_cv Observations: %d' % (len(y_cv)))\n",
    "\n",
    "print('X_test Observations: %d' % (len(X_test)))\n",
    "print('y_test Observations: %d' % (len(y_test)))"
   ]
  },
  {
   "cell_type": "code",
   "execution_count": 60,
   "metadata": {},
   "outputs": [],
   "source": [
    "#Reference: AAIC Case_study_2.\n",
    "# This function plots the confusion matrices given y_i, y_i_hat.\n",
    "from sklearn.metrics import confusion_matrix, recall_score, accuracy_score, precision_score\n",
    "def plot_confusion_matrix(test_y, predict_y):\n",
    "    C = confusion_matrix(test_y, predict_y)\n",
    "    A =(((C.T)/(C.sum(axis=1))).T)\n",
    "    B =(C/C.sum(axis=0))\n",
    "    \n",
    "    labels = ['comp1', 'comp2', 'comp3', 'comp4', 'none']\n",
    "    # representing A in heatmap format\n",
    "    print(\"-\"*20, \"Confusion matrix\", \"-\"*20)\n",
    "    plt.figure(figsize=(20,7))\n",
    "    sns.heatmap(C, annot=True, cmap=\"YlGnBu\", fmt=\".3f\", xticklabels=labels, yticklabels=labels)\n",
    "    plt.xlabel('Predicted Class')\n",
    "    plt.ylabel('Original Class')\n",
    "    plt.show()\n",
    "\n",
    "    print(\"-\"*20, \"Precision matrix (Columm Sum=1)\", \"-\"*20)\n",
    "    plt.figure(figsize=(20,7))\n",
    "    sns.heatmap(B, annot=True, cmap=\"YlGnBu\", fmt=\".3f\", xticklabels=labels, yticklabels=labels)\n",
    "    plt.xlabel('Predicted Class')\n",
    "    plt.ylabel('Original Class')\n",
    "    plt.show()\n",
    "    \n",
    "    # representing B in heatmap format\n",
    "    print(\"-\"*20, \"Recall matrix (Row sum=1)\", \"-\"*20)\n",
    "    plt.figure(figsize=(20,7))\n",
    "    sns.heatmap(A, annot=True, cmap=\"YlGnBu\", fmt=\".3f\", xticklabels=labels, yticklabels=labels)\n",
    "    plt.xlabel('Predicted Class')\n",
    "    plt.ylabel('Original Class')\n",
    "    plt.show()"
   ]
  },
  {
   "cell_type": "markdown",
   "metadata": {},
   "source": [
    "## Apply model XGBClassifier"
   ]
  },
  {
   "cell_type": "code",
   "execution_count": 61,
   "metadata": {},
   "outputs": [
    {
     "name": "stderr",
     "output_type": "stream",
     "text": [
      "C:\\Users\\medinikb\\Anaconda3\\lib\\site-packages\\xgboost\\sklearn.py:1146: UserWarning: The use of label encoder in XGBClassifier is deprecated and will be removed in a future release. To remove this warning, do the following: 1) Pass option use_label_encoder=False when constructing XGBClassifier object; and 2) Encode your labels (y) as integers starting with 0, i.e. 0, 1, 2, ..., [num_class - 1].\n",
      "  warnings.warn(label_encoder_deprecation_msg, UserWarning)\n"
     ]
    },
    {
     "name": "stdout",
     "output_type": "stream",
     "text": [
      "[21:43:02] WARNING: C:/Users/Administrator/workspace/xgboost-win64_release_1.4.0/src/learner.cc:1095: Starting in XGBoost 1.3.0, the default evaluation metric used with the objective 'multi:softprob' was changed from 'merror' to 'mlogloss'. Explicitly set eval_metric if you'd like to restore the old behavior.\n"
     ]
    },
    {
     "data": {
      "text/plain": [
       "XGBClassifier(base_score=0.5, booster='gbtree', colsample_bylevel=1,\n",
       "              colsample_bynode=1, colsample_bytree=1, gamma=0, gpu_id=-1,\n",
       "              importance_type='gain', interaction_constraints='',\n",
       "              learning_rate=0.300000012, max_delta_step=0, max_depth=6,\n",
       "              min_child_weight=1, missing=nan, monotone_constraints='()',\n",
       "              n_estimators=100, n_jobs=8, num_parallel_tree=1,\n",
       "              objective='multi:softprob', random_state=0, reg_alpha=0,\n",
       "              reg_lambda=1, scale_pos_weight=None, subsample=1,\n",
       "              tree_method='exact', validate_parameters=1, verbosity=None)"
      ]
     },
     "execution_count": 61,
     "metadata": {},
     "output_type": "execute_result"
    }
   ],
   "source": [
    "from xgboost import XGBClassifier\n",
    "\n",
    "x_cfl=XGBClassifier()\n",
    "x_cfl.fit(X_train,y_train)"
   ]
  },
  {
   "cell_type": "code",
   "execution_count": 62,
   "metadata": {},
   "outputs": [
    {
     "name": "stdout",
     "output_type": "stream",
     "text": [
      "-------------------- Confusion matrix --------------------\n"
     ]
    },
    {
     "data": {
      "image/png": "[encoded data removed]",
      "text/plain": [
       "<Figure size 1440x504 with 2 Axes>"
      ]
     },
     "metadata": {},
     "output_type": "display_data"
    },
    {
     "name": "stdout",
     "output_type": "stream",
     "text": [
      "-------------------- Precision matrix (Columm Sum=1) --------------------\n"
     ]
    },
    {
     "data": {
      "image/png": "[encoded data removed]",
      "text/plain": [
       "<Figure size 1440x504 with 2 Axes>"
      ]
     },
     "metadata": {},
     "output_type": "display_data"
    },
    {
     "name": "stdout",
     "output_type": "stream",
     "text": [
      "-------------------- Recall matrix (Row sum=1) --------------------\n"
     ]
    },
    {
     "data": {
      "image/png": "[encoded data removed]",
      "text/plain": [
       "<Figure size 1440x504 with 2 Axes>"
      ]
     },
     "metadata": {},
     "output_type": "display_data"
    }
   ],
   "source": [
    "plot_confusion_matrix(y_test, x_cfl.predict(X_test))"
   ]
  },
  {
   "cell_type": "markdown",
   "metadata": {},
   "source": [
    "## Apply model Random Forest Classifier"
   ]
  },
  {
   "cell_type": "code",
   "execution_count": 63,
   "metadata": {},
   "outputs": [
    {
     "name": "stdout",
     "output_type": "stream",
     "text": [
      "Wall time: 39.4 s\n"
     ]
    },
    {
     "data": {
      "text/plain": [
       "RandomForestClassifier(n_jobs=-1)"
      ]
     },
     "execution_count": 63,
     "metadata": {},
     "output_type": "execute_result"
    }
   ],
   "source": [
    "%%time\n",
    "from sklearn.ensemble import RandomForestClassifier\n",
    "\n",
    "r_cfl=RandomForestClassifier(n_jobs=-1)\n",
    "r_cfl.fit(X_train,y_train)"
   ]
  },
  {
   "cell_type": "code",
   "execution_count": 64,
   "metadata": {},
   "outputs": [
    {
     "name": "stdout",
     "output_type": "stream",
     "text": [
      "-------------------- Confusion matrix --------------------\n"
     ]
    },
    {
     "data": {
      "image/png": "[encoded data removed]",
      "text/plain": [
       "<Figure size 1440x504 with 2 Axes>"
      ]
     },
     "metadata": {},
     "output_type": "display_data"
    },
    {
     "name": "stdout",
     "output_type": "stream",
     "text": [
      "-------------------- Precision matrix (Columm Sum=1) --------------------\n"
     ]
    },
    {
     "data": {
      "image/png": "[encoded data removed]",
      "text/plain": [
       "<Figure size 1440x504 with 2 Axes>"
      ]
     },
     "metadata": {},
     "output_type": "display_data"
    },
    {
     "name": "stdout",
     "output_type": "stream",
     "text": [
      "-------------------- Recall matrix (Row sum=1) --------------------\n"
     ]
    },
    {
     "data": {
      "image/png": "[encoded data removed]",
      "text/plain": [
       "<Figure size 1440x504 with 2 Axes>"
      ]
     },
     "metadata": {},
     "output_type": "display_data"
    }
   ],
   "source": [
    "plot_confusion_matrix(y_test, r_cfl.predict(X_test))"
   ]
  },
  {
   "cell_type": "code",
   "execution_count": 66,
   "metadata": {},
   "outputs": [
    {
     "name": "stdout",
     "output_type": "stream",
     "text": [
      "+----------------------------------------------+-------+-------+-------+-------+---------------+\n",
      "|          Model name (Recall score )          | comp1 | comp2 | comp3 | comp4 | none(no fail) |\n",
      "+----------------------------------------------+-------+-------+-------+-------+---------------+\n",
      "|    Xgboost without hyper-parameter tuning    | 0.206 | 0.366 | 0.639 | 0.556 |       1       |\n",
      "| Random Forest without hyper-parameter tuning | 0.206 | 0.427 | 0.672 | 0.611 |       1       |\n",
      "+----------------------------------------------+-------+-------+-------+-------+---------------+\n"
     ]
    }
   ],
   "source": [
    "from prettytable import PrettyTable\n",
    "\n",
    "# Specify the Column Names\n",
    "myTable = PrettyTable([\"Model name (Recall score )\", \"comp1\", \"comp2\", \"comp3\", 'comp4', 'none(no fail)'])\n",
    "\n",
    "# Add rows\n",
    "myTable.add_row([\"Xgboost without hyper-parameter tuning\", \n",
    "                 \"0.206\", \"0.366\", \"0.639\", \"0.556\", \"1\"])\n",
    "\n",
    "\n",
    "myTable.add_row([\"Random Forest without hyper-parameter tuning\", \n",
    "                 \"0.206\", \"0.427\", \"0.672\", \"0.611\", \"1\"])\n",
    "\n",
    "\n",
    "print(myTable)\n"
   ]
  },
  {
   "cell_type": "markdown",
   "metadata": {},
   "source": [
    "# Observations on First cut approach:\n",
    "    1. The Recall value of Xgboost and Random Forest model are satisfactory without performing the feature engineering and hyper-parameter tuning. \n",
    "    2. After performing EDA, it is observed that this problem can be modeled as time series          problem.\n",
    "    3. To increase the performance of the ML models, it is better to perform time series          feature engineering technique and do hyper-parameter tuning in the next step. "
   ]
  },
  {
   "cell_type": "markdown",
   "metadata": {},
   "source": [
    "# >>>>> End of note book <<<<<<"
   ]
  }
 ],
 "metadata": {
  "hide_input": false,
  "kernelspec": {
   "display_name": "Python 3",
   "language": "python",
   "name": "python3"
  },
  "language_info": {
   "codemirror_mode": {
    "name": "ipython",
    "version": 3
   },
   "file_extension": ".py",
   "mimetype": "text/x-python",
   "name": "python",
   "nbconvert_exporter": "python",
   "pygments_lexer": "ipython3",
   "version": "3.8.5"
  },
  "toc": {
   "base_numbering": 1,
   "nav_menu": {},
   "number_sections": true,
   "sideBar": true,
   "skip_h1_title": false,
   "title_cell": "Table of Contents",
   "title_sidebar": "Contents",
   "toc_cell": false,
   "toc_position": {},
   "toc_section_display": true,
   "toc_window_display": false
  }
 },
 "nbformat": 4,
 "nbformat_minor": 1
}
